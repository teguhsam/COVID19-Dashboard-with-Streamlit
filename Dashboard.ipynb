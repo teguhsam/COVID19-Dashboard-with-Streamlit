{
 "cells": [
  {
   "source": [
    "import pandas as pd\n",
    "import json\n",
    "import requests\n",
    "import matplotlib.pyplot as plt\n",
    "from datetime import datetime\n",
    "from specific_func import downloading_json_file, split_json_to_dfs\n",
    "import numpy as np"
   ],
   "cell_type": "code",
   "metadata": {},
   "execution_count": null,
   "outputs": []
  },
  {
   "cell_type": "code",
   "execution_count": 2,
   "metadata": {},
   "outputs": [],
   "source": [
    "covid_json = \"https://covid.ourworldindata.org/data/owid-covid-data.json\"\n",
    "response = downloading_json_file(covid_json)"
   ]
  },
  {
   "cell_type": "code",
   "execution_count": 3,
   "metadata": {},
   "outputs": [],
   "source": [
    "country_information, country_key, combined_df = split_json_to_dfs(response)"
   ]
  },
  {
   "cell_type": "code",
   "execution_count": 5,
   "metadata": {},
   "outputs": [],
   "source": [
    "drop_option = country_key['location'].to_list()"
   ]
  },
  {
   "cell_type": "code",
   "execution_count": 20,
   "metadata": {},
   "outputs": [
    {
     "output_type": "stream",
     "name": "stdout",
     "text": [
      "Data last updated: 2020-12-21\n"
     ]
    }
   ],
   "source": [
    "today = combined_df['date'].max()\n",
    "print(\"Data last updated: {}\".format(str(today.date())))"
   ]
  },
  {
   "cell_type": "code",
   "execution_count": 34,
   "metadata": {},
   "outputs": [
    {
     "output_type": "execute_result",
     "data": {
      "text/plain": [
       "pandas._libs.tslibs.timestamps.Timestamp"
      ]
     },
     "metadata": {},
     "execution_count": 34
    }
   ],
   "source": [
    "type(today)"
   ]
  },
  {
   "cell_type": "code",
   "execution_count": 53,
   "metadata": {},
   "outputs": [
    {
     "output_type": "execute_result",
     "data": {
      "text/plain": [
       "            date  total_cases country_code     location\n",
       "300   2020-12-20      49817.0          AFG  Afghanistan\n",
       "587   2020-12-20      53003.0          ALB      Albania\n",
       "887   2020-12-20      95203.0          DZA      Algeria\n",
       "1181  2020-12-20       7577.0          AND      Andorra\n",
       "1457  2020-12-20      16644.0          AGO       Angola\n",
       "...          ...          ...          ...          ...\n",
       "53528 2020-12-20     110075.0          VEN    Venezuela\n",
       "53861 2020-12-20       1413.0          VNM      Vietnam\n",
       "54451 2020-12-20       2087.0          YEM        Yemen\n",
       "54729 2020-12-20      18716.0          ZMB       Zambia\n",
       "55005 2020-12-20      12325.0          ZWE     Zimbabwe\n",
       "\n",
       "[189 rows x 4 columns]"
      ],
      "text/html": "<div>\n<style scoped>\n    .dataframe tbody tr th:only-of-type {\n        vertical-align: middle;\n    }\n\n    .dataframe tbody tr th {\n        vertical-align: top;\n    }\n\n    .dataframe thead th {\n        text-align: right;\n    }\n</style>\n<table border=\"1\" class=\"dataframe\">\n  <thead>\n    <tr style=\"text-align: right;\">\n      <th></th>\n      <th>date</th>\n      <th>total_cases</th>\n      <th>country_code</th>\n      <th>location</th>\n    </tr>\n  </thead>\n  <tbody>\n    <tr>\n      <th>300</th>\n      <td>2020-12-20</td>\n      <td>49817.0</td>\n      <td>AFG</td>\n      <td>Afghanistan</td>\n    </tr>\n    <tr>\n      <th>587</th>\n      <td>2020-12-20</td>\n      <td>53003.0</td>\n      <td>ALB</td>\n      <td>Albania</td>\n    </tr>\n    <tr>\n      <th>887</th>\n      <td>2020-12-20</td>\n      <td>95203.0</td>\n      <td>DZA</td>\n      <td>Algeria</td>\n    </tr>\n    <tr>\n      <th>1181</th>\n      <td>2020-12-20</td>\n      <td>7577.0</td>\n      <td>AND</td>\n      <td>Andorra</td>\n    </tr>\n    <tr>\n      <th>1457</th>\n      <td>2020-12-20</td>\n      <td>16644.0</td>\n      <td>AGO</td>\n      <td>Angola</td>\n    </tr>\n    <tr>\n      <th>...</th>\n      <td>...</td>\n      <td>...</td>\n      <td>...</td>\n      <td>...</td>\n    </tr>\n    <tr>\n      <th>53528</th>\n      <td>2020-12-20</td>\n      <td>110075.0</td>\n      <td>VEN</td>\n      <td>Venezuela</td>\n    </tr>\n    <tr>\n      <th>53861</th>\n      <td>2020-12-20</td>\n      <td>1413.0</td>\n      <td>VNM</td>\n      <td>Vietnam</td>\n    </tr>\n    <tr>\n      <th>54451</th>\n      <td>2020-12-20</td>\n      <td>2087.0</td>\n      <td>YEM</td>\n      <td>Yemen</td>\n    </tr>\n    <tr>\n      <th>54729</th>\n      <td>2020-12-20</td>\n      <td>18716.0</td>\n      <td>ZMB</td>\n      <td>Zambia</td>\n    </tr>\n    <tr>\n      <th>55005</th>\n      <td>2020-12-20</td>\n      <td>12325.0</td>\n      <td>ZWE</td>\n      <td>Zimbabwe</td>\n    </tr>\n  </tbody>\n</table>\n<p>189 rows × 4 columns</p>\n</div>"
     },
     "metadata": {},
     "execution_count": 53
    }
   ],
   "source": [
    "df = combined_df.copy()\n",
    "previous_date = combined_df[combined_df['date'] != today]['date'].max()\n",
    "map_df = df[df['date'] == previous_date][['date', 'total_cases', 'country_code', 'location']]\n",
    "map_df = map_df[map_df['location'] != 'World']\n",
    "map_df"
   ]
  },
  {
   "cell_type": "code",
   "execution_count": 52,
   "metadata": {},
   "outputs": [
    {
     "output_type": "execute_result",
     "data": {
      "text/plain": [
       "Timestamp('2020-12-20 00:00:00')"
      ]
     },
     "metadata": {},
     "execution_count": 52
    }
   ],
   "source": []
  },
  {
   "cell_type": "code",
   "execution_count": 9,
   "metadata": {},
   "outputs": [
    {
     "output_type": "display_data",
     "data": {
      "text/plain": "<Figure size 432x288 with 1 Axes>",
      "image/svg+xml": "<?xml version=\"1.0\" encoding=\"utf-8\" standalone=\"no\"?>\n<!DOCTYPE svg PUBLIC \"-//W3C//DTD SVG 1.1//EN\"\n  \"http://www.w3.org/Graphics/SVG/1.1/DTD/svg11.dtd\">\n<!-- Created with matplotlib (https://matplotlib.org/) -->\n<svg height=\"273.394062pt\" version=\"1.1\" viewBox=\"0 0 381.65 273.394062\" width=\"381.65pt\" xmlns=\"http://www.w3.org/2000/svg\" xmlns:xlink=\"http://www.w3.org/1999/xlink\">\n <defs>\n  <style type=\"text/css\">\n*{stroke-linecap:butt;stroke-linejoin:round;}\n  </style>\n </defs>\n <g id=\"figure_1\">\n  <g id=\"patch_1\">\n   <path d=\"M -0 273.394062 \nL 381.65 273.394062 \nL 381.65 0 \nL -0 0 \nz\n\" style=\"fill:none;\"/>\n  </g>\n  <g id=\"axes_1\">\n   <g id=\"patch_2\">\n    <path d=\"M 39.65 224.64 \nL 374.45 224.64 \nL 374.45 7.2 \nL 39.65 7.2 \nz\n\" style=\"fill:#ffffff;\"/>\n   </g>\n   <g id=\"matplotlib.axis_1\">\n    <g id=\"xtick_1\">\n     <g id=\"line2d_1\">\n      <defs>\n       <path d=\"M 0 0 \nL 0 3.5 \n\" id=\"m5d41c1b88a\" style=\"stroke:#000000;stroke-width:0.8;\"/>\n      </defs>\n      <g>\n       <use style=\"stroke:#000000;stroke-width:0.8;\" x=\"39.65\" xlink:href=\"#m5d41c1b88a\" y=\"224.64\"/>\n      </g>\n     </g>\n    </g>\n    <g id=\"xtick_2\">\n     <g id=\"line2d_2\">\n      <g>\n       <use style=\"stroke:#000000;stroke-width:0.8;\" x=\"40.676994\" xlink:href=\"#m5d41c1b88a\" y=\"224.64\"/>\n      </g>\n     </g>\n     <g id=\"text_1\">\n      <!-- Jan -->\n      <defs>\n       <path d=\"M 9.8125 72.90625 \nL 19.671875 72.90625 \nL 19.671875 5.078125 \nQ 19.671875 -8.109375 14.671875 -14.0625 \nQ 9.671875 -20.015625 -1.421875 -20.015625 \nL -5.171875 -20.015625 \nL -5.171875 -11.71875 \nL -2.09375 -11.71875 \nQ 4.4375 -11.71875 7.125 -8.046875 \nQ 9.8125 -4.390625 9.8125 5.078125 \nz\n\" id=\"DejaVuSans-74\"/>\n       <path d=\"M 34.28125 27.484375 \nQ 23.390625 27.484375 19.1875 25 \nQ 14.984375 22.515625 14.984375 16.5 \nQ 14.984375 11.71875 18.140625 8.90625 \nQ 21.296875 6.109375 26.703125 6.109375 \nQ 34.1875 6.109375 38.703125 11.40625 \nQ 43.21875 16.703125 43.21875 25.484375 \nL 43.21875 27.484375 \nz\nM 52.203125 31.203125 \nL 52.203125 0 \nL 43.21875 0 \nL 43.21875 8.296875 \nQ 40.140625 3.328125 35.546875 0.953125 \nQ 30.953125 -1.421875 24.3125 -1.421875 \nQ 15.921875 -1.421875 10.953125 3.296875 \nQ 6 8.015625 6 15.921875 \nQ 6 25.140625 12.171875 29.828125 \nQ 18.359375 34.515625 30.609375 34.515625 \nL 43.21875 34.515625 \nL 43.21875 35.40625 \nQ 43.21875 41.609375 39.140625 45 \nQ 35.0625 48.390625 27.6875 48.390625 \nQ 23 48.390625 18.546875 47.265625 \nQ 14.109375 46.140625 10.015625 43.890625 \nL 10.015625 52.203125 \nQ 14.9375 54.109375 19.578125 55.046875 \nQ 24.21875 56 28.609375 56 \nQ 40.484375 56 46.34375 49.84375 \nQ 52.203125 43.703125 52.203125 31.203125 \nz\n\" id=\"DejaVuSans-97\"/>\n       <path d=\"M 54.890625 33.015625 \nL 54.890625 0 \nL 45.90625 0 \nL 45.90625 32.71875 \nQ 45.90625 40.484375 42.875 44.328125 \nQ 39.84375 48.1875 33.796875 48.1875 \nQ 26.515625 48.1875 22.3125 43.546875 \nQ 18.109375 38.921875 18.109375 30.90625 \nL 18.109375 0 \nL 9.078125 0 \nL 9.078125 54.6875 \nL 18.109375 54.6875 \nL 18.109375 46.1875 \nQ 21.34375 51.125 25.703125 53.5625 \nQ 30.078125 56 35.796875 56 \nQ 45.21875 56 50.046875 50.171875 \nQ 54.890625 44.34375 54.890625 33.015625 \nz\n\" id=\"DejaVuSans-110\"/>\n      </defs>\n      <g transform=\"translate(32.969181 239.238437)scale(0.1 -0.1)\">\n       <use xlink:href=\"#DejaVuSans-74\"/>\n       <use x=\"29.492188\" xlink:href=\"#DejaVuSans-97\"/>\n       <use x=\"90.771484\" xlink:href=\"#DejaVuSans-110\"/>\n      </g>\n      <!-- 2020 -->\n      <defs>\n       <path d=\"M 19.1875 8.296875 \nL 53.609375 8.296875 \nL 53.609375 0 \nL 7.328125 0 \nL 7.328125 8.296875 \nQ 12.9375 14.109375 22.625 23.890625 \nQ 32.328125 33.6875 34.8125 36.53125 \nQ 39.546875 41.84375 41.421875 45.53125 \nQ 43.3125 49.21875 43.3125 52.78125 \nQ 43.3125 58.59375 39.234375 62.25 \nQ 35.15625 65.921875 28.609375 65.921875 \nQ 23.96875 65.921875 18.8125 64.3125 \nQ 13.671875 62.703125 7.8125 59.421875 \nL 7.8125 69.390625 \nQ 13.765625 71.78125 18.9375 73 \nQ 24.125 74.21875 28.421875 74.21875 \nQ 39.75 74.21875 46.484375 68.546875 \nQ 53.21875 62.890625 53.21875 53.421875 \nQ 53.21875 48.921875 51.53125 44.890625 \nQ 49.859375 40.875 45.40625 35.40625 \nQ 44.1875 33.984375 37.640625 27.21875 \nQ 31.109375 20.453125 19.1875 8.296875 \nz\n\" id=\"DejaVuSans-50\"/>\n       <path d=\"M 31.78125 66.40625 \nQ 24.171875 66.40625 20.328125 58.90625 \nQ 16.5 51.421875 16.5 36.375 \nQ 16.5 21.390625 20.328125 13.890625 \nQ 24.171875 6.390625 31.78125 6.390625 \nQ 39.453125 6.390625 43.28125 13.890625 \nQ 47.125 21.390625 47.125 36.375 \nQ 47.125 51.421875 43.28125 58.90625 \nQ 39.453125 66.40625 31.78125 66.40625 \nz\nM 31.78125 74.21875 \nQ 44.046875 74.21875 50.515625 64.515625 \nQ 56.984375 54.828125 56.984375 36.375 \nQ 56.984375 17.96875 50.515625 8.265625 \nQ 44.046875 -1.421875 31.78125 -1.421875 \nQ 19.53125 -1.421875 13.0625 8.265625 \nQ 6.59375 17.96875 6.59375 36.375 \nQ 6.59375 54.828125 13.0625 64.515625 \nQ 19.53125 74.21875 31.78125 74.21875 \nz\n\" id=\"DejaVuSans-48\"/>\n      </defs>\n      <g transform=\"translate(27.951994 250.43625)scale(0.1 -0.1)\">\n       <use xlink:href=\"#DejaVuSans-50\"/>\n       <use x=\"63.623047\" xlink:href=\"#DejaVuSans-48\"/>\n       <use x=\"127.246094\" xlink:href=\"#DejaVuSans-50\"/>\n       <use x=\"190.869141\" xlink:href=\"#DejaVuSans-48\"/>\n      </g>\n     </g>\n    </g>\n    <g id=\"xtick_3\">\n     <g id=\"line2d_3\">\n      <g>\n       <use style=\"stroke:#000000;stroke-width:0.8;\" x=\"72.513804\" xlink:href=\"#m5d41c1b88a\" y=\"224.64\"/>\n      </g>\n     </g>\n     <g id=\"text_2\">\n      <!-- Feb -->\n      <defs>\n       <path d=\"M 9.8125 72.90625 \nL 51.703125 72.90625 \nL 51.703125 64.59375 \nL 19.671875 64.59375 \nL 19.671875 43.109375 \nL 48.578125 43.109375 \nL 48.578125 34.8125 \nL 19.671875 34.8125 \nL 19.671875 0 \nL 9.8125 0 \nz\n\" id=\"DejaVuSans-70\"/>\n       <path d=\"M 56.203125 29.59375 \nL 56.203125 25.203125 \nL 14.890625 25.203125 \nQ 15.484375 15.921875 20.484375 11.0625 \nQ 25.484375 6.203125 34.421875 6.203125 \nQ 39.59375 6.203125 44.453125 7.46875 \nQ 49.3125 8.734375 54.109375 11.28125 \nL 54.109375 2.78125 \nQ 49.265625 0.734375 44.1875 -0.34375 \nQ 39.109375 -1.421875 33.890625 -1.421875 \nQ 20.796875 -1.421875 13.15625 6.1875 \nQ 5.515625 13.8125 5.515625 26.8125 \nQ 5.515625 40.234375 12.765625 48.109375 \nQ 20.015625 56 32.328125 56 \nQ 43.359375 56 49.78125 48.890625 \nQ 56.203125 41.796875 56.203125 29.59375 \nz\nM 47.21875 32.234375 \nQ 47.125 39.59375 43.09375 43.984375 \nQ 39.0625 48.390625 32.421875 48.390625 \nQ 24.90625 48.390625 20.390625 44.140625 \nQ 15.875 39.890625 15.1875 32.171875 \nz\n\" id=\"DejaVuSans-101\"/>\n       <path d=\"M 48.6875 27.296875 \nQ 48.6875 37.203125 44.609375 42.84375 \nQ 40.53125 48.484375 33.40625 48.484375 \nQ 26.265625 48.484375 22.1875 42.84375 \nQ 18.109375 37.203125 18.109375 27.296875 \nQ 18.109375 17.390625 22.1875 11.75 \nQ 26.265625 6.109375 33.40625 6.109375 \nQ 40.53125 6.109375 44.609375 11.75 \nQ 48.6875 17.390625 48.6875 27.296875 \nz\nM 18.109375 46.390625 \nQ 20.953125 51.265625 25.265625 53.625 \nQ 29.59375 56 35.59375 56 \nQ 45.5625 56 51.78125 48.09375 \nQ 58.015625 40.1875 58.015625 27.296875 \nQ 58.015625 14.40625 51.78125 6.484375 \nQ 45.5625 -1.421875 35.59375 -1.421875 \nQ 29.59375 -1.421875 25.265625 0.953125 \nQ 20.953125 3.328125 18.109375 8.203125 \nL 18.109375 0 \nL 9.078125 0 \nL 9.078125 75.984375 \nL 18.109375 75.984375 \nz\n\" id=\"DejaVuSans-98\"/>\n      </defs>\n      <g transform=\"translate(63.662241 239.238437)scale(0.1 -0.1)\">\n       <use xlink:href=\"#DejaVuSans-70\"/>\n       <use x=\"52.019531\" xlink:href=\"#DejaVuSans-101\"/>\n       <use x=\"113.542969\" xlink:href=\"#DejaVuSans-98\"/>\n      </g>\n     </g>\n    </g>\n    <g id=\"xtick_4\">\n     <g id=\"line2d_4\">\n      <g>\n       <use style=\"stroke:#000000;stroke-width:0.8;\" x=\"102.296626\" xlink:href=\"#m5d41c1b88a\" y=\"224.64\"/>\n      </g>\n     </g>\n     <g id=\"text_3\">\n      <!-- Mar -->\n      <defs>\n       <path d=\"M 9.8125 72.90625 \nL 24.515625 72.90625 \nL 43.109375 23.296875 \nL 61.8125 72.90625 \nL 76.515625 72.90625 \nL 76.515625 0 \nL 66.890625 0 \nL 66.890625 64.015625 \nL 48.09375 14.015625 \nL 38.1875 14.015625 \nL 19.390625 64.015625 \nL 19.390625 0 \nL 9.8125 0 \nz\n\" id=\"DejaVuSans-77\"/>\n       <path d=\"M 41.109375 46.296875 \nQ 39.59375 47.171875 37.8125 47.578125 \nQ 36.03125 48 33.890625 48 \nQ 26.265625 48 22.1875 43.046875 \nQ 18.109375 38.09375 18.109375 28.8125 \nL 18.109375 0 \nL 9.078125 0 \nL 9.078125 54.6875 \nL 18.109375 54.6875 \nL 18.109375 46.1875 \nQ 20.953125 51.171875 25.484375 53.578125 \nQ 30.03125 56 36.53125 56 \nQ 37.453125 56 38.578125 55.875 \nQ 39.703125 55.765625 41.0625 55.515625 \nz\n\" id=\"DejaVuSans-114\"/>\n      </defs>\n      <g transform=\"translate(92.863032 239.238437)scale(0.1 -0.1)\">\n       <use xlink:href=\"#DejaVuSans-77\"/>\n       <use x=\"86.279297\" xlink:href=\"#DejaVuSans-97\"/>\n       <use x=\"147.558594\" xlink:href=\"#DejaVuSans-114\"/>\n      </g>\n     </g>\n    </g>\n    <g id=\"xtick_5\">\n     <g id=\"line2d_5\">\n      <g>\n       <use style=\"stroke:#000000;stroke-width:0.8;\" x=\"134.133436\" xlink:href=\"#m5d41c1b88a\" y=\"224.64\"/>\n      </g>\n     </g>\n     <g id=\"text_4\">\n      <!-- Apr -->\n      <defs>\n       <path d=\"M 34.1875 63.1875 \nL 20.796875 26.90625 \nL 47.609375 26.90625 \nz\nM 28.609375 72.90625 \nL 39.796875 72.90625 \nL 67.578125 0 \nL 57.328125 0 \nL 50.6875 18.703125 \nL 17.828125 18.703125 \nL 11.1875 0 \nL 0.78125 0 \nz\n\" id=\"DejaVuSans-65\"/>\n       <path d=\"M 18.109375 8.203125 \nL 18.109375 -20.796875 \nL 9.078125 -20.796875 \nL 9.078125 54.6875 \nL 18.109375 54.6875 \nL 18.109375 46.390625 \nQ 20.953125 51.265625 25.265625 53.625 \nQ 29.59375 56 35.59375 56 \nQ 45.5625 56 51.78125 48.09375 \nQ 58.015625 40.1875 58.015625 27.296875 \nQ 58.015625 14.40625 51.78125 6.484375 \nQ 45.5625 -1.421875 35.59375 -1.421875 \nQ 29.59375 -1.421875 25.265625 0.953125 \nQ 20.953125 3.328125 18.109375 8.203125 \nz\nM 48.6875 27.296875 \nQ 48.6875 37.203125 44.609375 42.84375 \nQ 40.53125 48.484375 33.40625 48.484375 \nQ 26.265625 48.484375 22.1875 42.84375 \nQ 18.109375 37.203125 18.109375 27.296875 \nQ 18.109375 17.390625 22.1875 11.75 \nQ 26.265625 6.109375 33.40625 6.109375 \nQ 40.53125 6.109375 44.609375 11.75 \nQ 48.6875 17.390625 48.6875 27.296875 \nz\n\" id=\"DejaVuSans-112\"/>\n      </defs>\n      <g transform=\"translate(125.483436 239.238437)scale(0.1 -0.1)\">\n       <use xlink:href=\"#DejaVuSans-65\"/>\n       <use x=\"68.408203\" xlink:href=\"#DejaVuSans-112\"/>\n       <use x=\"131.884766\" xlink:href=\"#DejaVuSans-114\"/>\n      </g>\n     </g>\n    </g>\n    <g id=\"xtick_6\">\n     <g id=\"line2d_6\">\n      <g>\n       <use style=\"stroke:#000000;stroke-width:0.8;\" x=\"164.943252\" xlink:href=\"#m5d41c1b88a\" y=\"224.64\"/>\n      </g>\n     </g>\n     <g id=\"text_5\">\n      <!-- May -->\n      <defs>\n       <path d=\"M 32.171875 -5.078125 \nQ 28.375 -14.84375 24.75 -17.8125 \nQ 21.140625 -20.796875 15.09375 -20.796875 \nL 7.90625 -20.796875 \nL 7.90625 -13.28125 \nL 13.1875 -13.28125 \nQ 16.890625 -13.28125 18.9375 -11.515625 \nQ 21 -9.765625 23.484375 -3.21875 \nL 25.09375 0.875 \nL 2.984375 54.6875 \nL 12.5 54.6875 \nL 29.59375 11.921875 \nL 46.6875 54.6875 \nL 56.203125 54.6875 \nz\n\" id=\"DejaVuSans-121\"/>\n      </defs>\n      <g transform=\"translate(154.605752 239.238437)scale(0.1 -0.1)\">\n       <use xlink:href=\"#DejaVuSans-77\"/>\n       <use x=\"86.279297\" xlink:href=\"#DejaVuSans-97\"/>\n       <use x=\"147.558594\" xlink:href=\"#DejaVuSans-121\"/>\n      </g>\n     </g>\n    </g>\n    <g id=\"xtick_7\">\n     <g id=\"line2d_7\">\n      <g>\n       <use style=\"stroke:#000000;stroke-width:0.8;\" x=\"196.780061\" xlink:href=\"#m5d41c1b88a\" y=\"224.64\"/>\n      </g>\n     </g>\n     <g id=\"text_6\">\n      <!-- Jun -->\n      <defs>\n       <path d=\"M 8.5 21.578125 \nL 8.5 54.6875 \nL 17.484375 54.6875 \nL 17.484375 21.921875 \nQ 17.484375 14.15625 20.5 10.265625 \nQ 23.53125 6.390625 29.59375 6.390625 \nQ 36.859375 6.390625 41.078125 11.03125 \nQ 45.3125 15.671875 45.3125 23.6875 \nL 45.3125 54.6875 \nL 54.296875 54.6875 \nL 54.296875 0 \nL 45.3125 0 \nL 45.3125 8.40625 \nQ 42.046875 3.421875 37.71875 1 \nQ 33.40625 -1.421875 27.6875 -1.421875 \nQ 18.265625 -1.421875 13.375 4.4375 \nQ 8.5 10.296875 8.5 21.578125 \nz\nM 31.109375 56 \nz\n\" id=\"DejaVuSans-117\"/>\n      </defs>\n      <g transform=\"translate(188.967561 239.238437)scale(0.1 -0.1)\">\n       <use xlink:href=\"#DejaVuSans-74\"/>\n       <use x=\"29.492188\" xlink:href=\"#DejaVuSans-117\"/>\n       <use x=\"92.871094\" xlink:href=\"#DejaVuSans-110\"/>\n      </g>\n     </g>\n    </g>\n    <g id=\"xtick_8\">\n     <g id=\"line2d_8\">\n      <g>\n       <use style=\"stroke:#000000;stroke-width:0.8;\" x=\"227.589877\" xlink:href=\"#m5d41c1b88a\" y=\"224.64\"/>\n      </g>\n     </g>\n     <g id=\"text_7\">\n      <!-- Jul -->\n      <defs>\n       <path d=\"M 9.421875 75.984375 \nL 18.40625 75.984375 \nL 18.40625 0 \nL 9.421875 0 \nz\n\" id=\"DejaVuSans-108\"/>\n      </defs>\n      <g transform=\"translate(221.557065 239.238437)scale(0.1 -0.1)\">\n       <use xlink:href=\"#DejaVuSans-74\"/>\n       <use x=\"29.492188\" xlink:href=\"#DejaVuSans-117\"/>\n       <use x=\"92.871094\" xlink:href=\"#DejaVuSans-108\"/>\n      </g>\n     </g>\n    </g>\n    <g id=\"xtick_9\">\n     <g id=\"line2d_9\">\n      <g>\n       <use style=\"stroke:#000000;stroke-width:0.8;\" x=\"259.426687\" xlink:href=\"#m5d41c1b88a\" y=\"224.64\"/>\n      </g>\n     </g>\n     <g id=\"text_8\">\n      <!-- Aug -->\n      <defs>\n       <path d=\"M 45.40625 27.984375 \nQ 45.40625 37.75 41.375 43.109375 \nQ 37.359375 48.484375 30.078125 48.484375 \nQ 22.859375 48.484375 18.828125 43.109375 \nQ 14.796875 37.75 14.796875 27.984375 \nQ 14.796875 18.265625 18.828125 12.890625 \nQ 22.859375 7.515625 30.078125 7.515625 \nQ 37.359375 7.515625 41.375 12.890625 \nQ 45.40625 18.265625 45.40625 27.984375 \nz\nM 54.390625 6.78125 \nQ 54.390625 -7.171875 48.1875 -13.984375 \nQ 42 -20.796875 29.203125 -20.796875 \nQ 24.46875 -20.796875 20.265625 -20.09375 \nQ 16.0625 -19.390625 12.109375 -17.921875 \nL 12.109375 -9.1875 \nQ 16.0625 -11.328125 19.921875 -12.34375 \nQ 23.78125 -13.375 27.78125 -13.375 \nQ 36.625 -13.375 41.015625 -8.765625 \nQ 45.40625 -4.15625 45.40625 5.171875 \nL 45.40625 9.625 \nQ 42.625 4.78125 38.28125 2.390625 \nQ 33.9375 0 27.875 0 \nQ 17.828125 0 11.671875 7.65625 \nQ 5.515625 15.328125 5.515625 27.984375 \nQ 5.515625 40.671875 11.671875 48.328125 \nQ 17.828125 56 27.875 56 \nQ 33.9375 56 38.28125 53.609375 \nQ 42.625 51.21875 45.40625 46.390625 \nL 45.40625 54.6875 \nL 54.390625 54.6875 \nz\n\" id=\"DejaVuSans-103\"/>\n      </defs>\n      <g transform=\"translate(249.663406 239.238437)scale(0.1 -0.1)\">\n       <use xlink:href=\"#DejaVuSans-65\"/>\n       <use x=\"68.408203\" xlink:href=\"#DejaVuSans-117\"/>\n       <use x=\"131.787109\" xlink:href=\"#DejaVuSans-103\"/>\n      </g>\n     </g>\n    </g>\n    <g id=\"xtick_10\">\n     <g id=\"line2d_10\">\n      <g>\n       <use style=\"stroke:#000000;stroke-width:0.8;\" x=\"291.263497\" xlink:href=\"#m5d41c1b88a\" y=\"224.64\"/>\n      </g>\n     </g>\n     <g id=\"text_9\">\n      <!-- Sep -->\n      <defs>\n       <path d=\"M 53.515625 70.515625 \nL 53.515625 60.890625 \nQ 47.90625 63.578125 42.921875 64.890625 \nQ 37.9375 66.21875 33.296875 66.21875 \nQ 25.25 66.21875 20.875 63.09375 \nQ 16.5 59.96875 16.5 54.203125 \nQ 16.5 49.359375 19.40625 46.890625 \nQ 22.3125 44.4375 30.421875 42.921875 \nL 36.375 41.703125 \nQ 47.40625 39.59375 52.65625 34.296875 \nQ 57.90625 29 57.90625 20.125 \nQ 57.90625 9.515625 50.796875 4.046875 \nQ 43.703125 -1.421875 29.984375 -1.421875 \nQ 24.8125 -1.421875 18.96875 -0.25 \nQ 13.140625 0.921875 6.890625 3.21875 \nL 6.890625 13.375 \nQ 12.890625 10.015625 18.65625 8.296875 \nQ 24.421875 6.59375 29.984375 6.59375 \nQ 38.421875 6.59375 43.015625 9.90625 \nQ 47.609375 13.234375 47.609375 19.390625 \nQ 47.609375 24.75 44.3125 27.78125 \nQ 41.015625 30.8125 33.5 32.328125 \nL 27.484375 33.5 \nQ 16.453125 35.6875 11.515625 40.375 \nQ 6.59375 45.0625 6.59375 53.421875 \nQ 6.59375 63.09375 13.40625 68.65625 \nQ 20.21875 74.21875 32.171875 74.21875 \nQ 37.3125 74.21875 42.625 73.28125 \nQ 47.953125 72.359375 53.515625 70.515625 \nz\n\" id=\"DejaVuSans-83\"/>\n      </defs>\n      <g transform=\"translate(281.838497 239.238437)scale(0.1 -0.1)\">\n       <use xlink:href=\"#DejaVuSans-83\"/>\n       <use x=\"63.476562\" xlink:href=\"#DejaVuSans-101\"/>\n       <use x=\"125\" xlink:href=\"#DejaVuSans-112\"/>\n      </g>\n     </g>\n    </g>\n    <g id=\"xtick_11\">\n     <g id=\"line2d_11\">\n      <g>\n       <use style=\"stroke:#000000;stroke-width:0.8;\" x=\"322.073313\" xlink:href=\"#m5d41c1b88a\" y=\"224.64\"/>\n      </g>\n     </g>\n     <g id=\"text_10\">\n      <!-- Oct -->\n      <defs>\n       <path d=\"M 39.40625 66.21875 \nQ 28.65625 66.21875 22.328125 58.203125 \nQ 16.015625 50.203125 16.015625 36.375 \nQ 16.015625 22.609375 22.328125 14.59375 \nQ 28.65625 6.59375 39.40625 6.59375 \nQ 50.140625 6.59375 56.421875 14.59375 \nQ 62.703125 22.609375 62.703125 36.375 \nQ 62.703125 50.203125 56.421875 58.203125 \nQ 50.140625 66.21875 39.40625 66.21875 \nz\nM 39.40625 74.21875 \nQ 54.734375 74.21875 63.90625 63.9375 \nQ 73.09375 53.65625 73.09375 36.375 \nQ 73.09375 19.140625 63.90625 8.859375 \nQ 54.734375 -1.421875 39.40625 -1.421875 \nQ 24.03125 -1.421875 14.8125 8.828125 \nQ 5.609375 19.09375 5.609375 36.375 \nQ 5.609375 53.65625 14.8125 63.9375 \nQ 24.03125 74.21875 39.40625 74.21875 \nz\n\" id=\"DejaVuSans-79\"/>\n       <path d=\"M 48.78125 52.59375 \nL 48.78125 44.1875 \nQ 44.96875 46.296875 41.140625 47.34375 \nQ 37.3125 48.390625 33.40625 48.390625 \nQ 24.65625 48.390625 19.8125 42.84375 \nQ 14.984375 37.3125 14.984375 27.296875 \nQ 14.984375 17.28125 19.8125 11.734375 \nQ 24.65625 6.203125 33.40625 6.203125 \nQ 37.3125 6.203125 41.140625 7.25 \nQ 44.96875 8.296875 48.78125 10.40625 \nL 48.78125 2.09375 \nQ 45.015625 0.34375 40.984375 -0.53125 \nQ 36.96875 -1.421875 32.421875 -1.421875 \nQ 20.0625 -1.421875 12.78125 6.34375 \nQ 5.515625 14.109375 5.515625 27.296875 \nQ 5.515625 40.671875 12.859375 48.328125 \nQ 20.21875 56 33.015625 56 \nQ 37.15625 56 41.109375 55.140625 \nQ 45.0625 54.296875 48.78125 52.59375 \nz\n\" id=\"DejaVuSans-99\"/>\n       <path d=\"M 18.3125 70.21875 \nL 18.3125 54.6875 \nL 36.8125 54.6875 \nL 36.8125 47.703125 \nL 18.3125 47.703125 \nL 18.3125 18.015625 \nQ 18.3125 11.328125 20.140625 9.421875 \nQ 21.96875 7.515625 27.59375 7.515625 \nL 36.8125 7.515625 \nL 36.8125 0 \nL 27.59375 0 \nQ 17.1875 0 13.234375 3.875 \nQ 9.28125 7.765625 9.28125 18.015625 \nL 9.28125 47.703125 \nL 2.6875 47.703125 \nL 2.6875 54.6875 \nL 9.28125 54.6875 \nL 9.28125 70.21875 \nz\n\" id=\"DejaVuSans-116\"/>\n      </defs>\n      <g transform=\"translate(313.428 239.238437)scale(0.1 -0.1)\">\n       <use xlink:href=\"#DejaVuSans-79\"/>\n       <use x=\"78.710938\" xlink:href=\"#DejaVuSans-99\"/>\n       <use x=\"133.691406\" xlink:href=\"#DejaVuSans-116\"/>\n      </g>\n     </g>\n    </g>\n    <g id=\"xtick_12\">\n     <g id=\"line2d_12\">\n      <g>\n       <use style=\"stroke:#000000;stroke-width:0.8;\" x=\"353.910123\" xlink:href=\"#m5d41c1b88a\" y=\"224.64\"/>\n      </g>\n     </g>\n     <g id=\"text_11\">\n      <!-- Nov -->\n      <defs>\n       <path d=\"M 9.8125 72.90625 \nL 23.09375 72.90625 \nL 55.421875 11.921875 \nL 55.421875 72.90625 \nL 64.984375 72.90625 \nL 64.984375 0 \nL 51.703125 0 \nL 19.390625 60.984375 \nL 19.390625 0 \nL 9.8125 0 \nz\n\" id=\"DejaVuSans-78\"/>\n       <path d=\"M 30.609375 48.390625 \nQ 23.390625 48.390625 19.1875 42.75 \nQ 14.984375 37.109375 14.984375 27.296875 \nQ 14.984375 17.484375 19.15625 11.84375 \nQ 23.34375 6.203125 30.609375 6.203125 \nQ 37.796875 6.203125 41.984375 11.859375 \nQ 46.1875 17.53125 46.1875 27.296875 \nQ 46.1875 37.015625 41.984375 42.703125 \nQ 37.796875 48.390625 30.609375 48.390625 \nz\nM 30.609375 56 \nQ 42.328125 56 49.015625 48.375 \nQ 55.71875 40.765625 55.71875 27.296875 \nQ 55.71875 13.875 49.015625 6.21875 \nQ 42.328125 -1.421875 30.609375 -1.421875 \nQ 18.84375 -1.421875 12.171875 6.21875 \nQ 5.515625 13.875 5.515625 27.296875 \nQ 5.515625 40.765625 12.171875 48.375 \nQ 18.84375 56 30.609375 56 \nz\n\" id=\"DejaVuSans-111\"/>\n       <path d=\"M 2.984375 54.6875 \nL 12.5 54.6875 \nL 29.59375 8.796875 \nL 46.6875 54.6875 \nL 56.203125 54.6875 \nL 35.6875 0 \nL 23.484375 0 \nz\n\" id=\"DejaVuSans-118\"/>\n      </defs>\n      <g transform=\"translate(344.150748 239.238437)scale(0.1 -0.1)\">\n       <use xlink:href=\"#DejaVuSans-78\"/>\n       <use x=\"74.804688\" xlink:href=\"#DejaVuSans-111\"/>\n       <use x=\"135.986328\" xlink:href=\"#DejaVuSans-118\"/>\n      </g>\n     </g>\n    </g>\n    <g id=\"xtick_13\">\n     <g id=\"line2d_13\">\n      <g>\n       <use style=\"stroke:#000000;stroke-width:0.8;\" x=\"374.45\" xlink:href=\"#m5d41c1b88a\" y=\"224.64\"/>\n      </g>\n     </g>\n    </g>\n    <g id=\"xtick_14\">\n     <g id=\"line2d_14\">\n      <defs>\n       <path d=\"M 0 0 \nL 0 2 \n\" id=\"m8b746b84fb\" style=\"stroke:#000000;stroke-width:0.6;\"/>\n      </defs>\n      <g>\n       <use style=\"stroke:#000000;stroke-width:0.6;\" x=\"45.811963\" xlink:href=\"#m8b746b84fb\" y=\"224.64\"/>\n      </g>\n     </g>\n    </g>\n    <g id=\"xtick_15\">\n     <g id=\"line2d_15\">\n      <g>\n       <use style=\"stroke:#000000;stroke-width:0.6;\" x=\"53.00092\" xlink:href=\"#m8b746b84fb\" y=\"224.64\"/>\n      </g>\n     </g>\n    </g>\n    <g id=\"xtick_16\">\n     <g id=\"line2d_16\">\n      <g>\n       <use style=\"stroke:#000000;stroke-width:0.6;\" x=\"60.189877\" xlink:href=\"#m8b746b84fb\" y=\"224.64\"/>\n      </g>\n     </g>\n    </g>\n    <g id=\"xtick_17\">\n     <g id=\"line2d_17\">\n      <g>\n       <use style=\"stroke:#000000;stroke-width:0.6;\" x=\"67.378834\" xlink:href=\"#m8b746b84fb\" y=\"224.64\"/>\n      </g>\n     </g>\n    </g>\n    <g id=\"xtick_18\">\n     <g id=\"line2d_18\">\n      <g>\n       <use style=\"stroke:#000000;stroke-width:0.6;\" x=\"74.567791\" xlink:href=\"#m8b746b84fb\" y=\"224.64\"/>\n      </g>\n     </g>\n    </g>\n    <g id=\"xtick_19\">\n     <g id=\"line2d_19\">\n      <g>\n       <use style=\"stroke:#000000;stroke-width:0.6;\" x=\"81.756748\" xlink:href=\"#m8b746b84fb\" y=\"224.64\"/>\n      </g>\n     </g>\n    </g>\n    <g id=\"xtick_20\">\n     <g id=\"line2d_20\">\n      <g>\n       <use style=\"stroke:#000000;stroke-width:0.6;\" x=\"88.945706\" xlink:href=\"#m8b746b84fb\" y=\"224.64\"/>\n      </g>\n     </g>\n    </g>\n    <g id=\"xtick_21\">\n     <g id=\"line2d_21\">\n      <g>\n       <use style=\"stroke:#000000;stroke-width:0.6;\" x=\"96.134663\" xlink:href=\"#m8b746b84fb\" y=\"224.64\"/>\n      </g>\n     </g>\n    </g>\n    <g id=\"xtick_22\">\n     <g id=\"line2d_22\">\n      <g>\n       <use style=\"stroke:#000000;stroke-width:0.6;\" x=\"103.32362\" xlink:href=\"#m8b746b84fb\" y=\"224.64\"/>\n      </g>\n     </g>\n    </g>\n    <g id=\"xtick_23\">\n     <g id=\"line2d_23\">\n      <g>\n       <use style=\"stroke:#000000;stroke-width:0.6;\" x=\"110.512577\" xlink:href=\"#m8b746b84fb\" y=\"224.64\"/>\n      </g>\n     </g>\n    </g>\n    <g id=\"xtick_24\">\n     <g id=\"line2d_24\">\n      <g>\n       <use style=\"stroke:#000000;stroke-width:0.6;\" x=\"117.701534\" xlink:href=\"#m8b746b84fb\" y=\"224.64\"/>\n      </g>\n     </g>\n    </g>\n    <g id=\"xtick_25\">\n     <g id=\"line2d_25\">\n      <g>\n       <use style=\"stroke:#000000;stroke-width:0.6;\" x=\"124.890491\" xlink:href=\"#m8b746b84fb\" y=\"224.64\"/>\n      </g>\n     </g>\n    </g>\n    <g id=\"xtick_26\">\n     <g id=\"line2d_26\">\n      <g>\n       <use style=\"stroke:#000000;stroke-width:0.6;\" x=\"132.079448\" xlink:href=\"#m8b746b84fb\" y=\"224.64\"/>\n      </g>\n     </g>\n    </g>\n    <g id=\"xtick_27\">\n     <g id=\"line2d_27\">\n      <g>\n       <use style=\"stroke:#000000;stroke-width:0.6;\" x=\"139.268405\" xlink:href=\"#m8b746b84fb\" y=\"224.64\"/>\n      </g>\n     </g>\n    </g>\n    <g id=\"xtick_28\">\n     <g id=\"line2d_28\">\n      <g>\n       <use style=\"stroke:#000000;stroke-width:0.6;\" x=\"146.457362\" xlink:href=\"#m8b746b84fb\" y=\"224.64\"/>\n      </g>\n     </g>\n    </g>\n    <g id=\"xtick_29\">\n     <g id=\"line2d_29\">\n      <g>\n       <use style=\"stroke:#000000;stroke-width:0.6;\" x=\"153.646319\" xlink:href=\"#m8b746b84fb\" y=\"224.64\"/>\n      </g>\n     </g>\n    </g>\n    <g id=\"xtick_30\">\n     <g id=\"line2d_30\">\n      <g>\n       <use style=\"stroke:#000000;stroke-width:0.6;\" x=\"160.835276\" xlink:href=\"#m8b746b84fb\" y=\"224.64\"/>\n      </g>\n     </g>\n    </g>\n    <g id=\"xtick_31\">\n     <g id=\"line2d_31\">\n      <g>\n       <use style=\"stroke:#000000;stroke-width:0.6;\" x=\"168.024233\" xlink:href=\"#m8b746b84fb\" y=\"224.64\"/>\n      </g>\n     </g>\n    </g>\n    <g id=\"xtick_32\">\n     <g id=\"line2d_32\">\n      <g>\n       <use style=\"stroke:#000000;stroke-width:0.6;\" x=\"175.21319\" xlink:href=\"#m8b746b84fb\" y=\"224.64\"/>\n      </g>\n     </g>\n    </g>\n    <g id=\"xtick_33\">\n     <g id=\"line2d_33\">\n      <g>\n       <use style=\"stroke:#000000;stroke-width:0.6;\" x=\"182.402147\" xlink:href=\"#m8b746b84fb\" y=\"224.64\"/>\n      </g>\n     </g>\n    </g>\n    <g id=\"xtick_34\">\n     <g id=\"line2d_34\">\n      <g>\n       <use style=\"stroke:#000000;stroke-width:0.6;\" x=\"189.591104\" xlink:href=\"#m8b746b84fb\" y=\"224.64\"/>\n      </g>\n     </g>\n    </g>\n    <g id=\"xtick_35\">\n     <g id=\"line2d_35\">\n      <g>\n       <use style=\"stroke:#000000;stroke-width:0.6;\" x=\"203.969018\" xlink:href=\"#m8b746b84fb\" y=\"224.64\"/>\n      </g>\n     </g>\n    </g>\n    <g id=\"xtick_36\">\n     <g id=\"line2d_36\">\n      <g>\n       <use style=\"stroke:#000000;stroke-width:0.6;\" x=\"211.157975\" xlink:href=\"#m8b746b84fb\" y=\"224.64\"/>\n      </g>\n     </g>\n    </g>\n    <g id=\"xtick_37\">\n     <g id=\"line2d_37\">\n      <g>\n       <use style=\"stroke:#000000;stroke-width:0.6;\" x=\"218.346933\" xlink:href=\"#m8b746b84fb\" y=\"224.64\"/>\n      </g>\n     </g>\n    </g>\n    <g id=\"xtick_38\">\n     <g id=\"line2d_38\">\n      <g>\n       <use style=\"stroke:#000000;stroke-width:0.6;\" x=\"225.53589\" xlink:href=\"#m8b746b84fb\" y=\"224.64\"/>\n      </g>\n     </g>\n    </g>\n    <g id=\"xtick_39\">\n     <g id=\"line2d_39\">\n      <g>\n       <use style=\"stroke:#000000;stroke-width:0.6;\" x=\"232.724847\" xlink:href=\"#m8b746b84fb\" y=\"224.64\"/>\n      </g>\n     </g>\n    </g>\n    <g id=\"xtick_40\">\n     <g id=\"line2d_40\">\n      <g>\n       <use style=\"stroke:#000000;stroke-width:0.6;\" x=\"239.913804\" xlink:href=\"#m8b746b84fb\" y=\"224.64\"/>\n      </g>\n     </g>\n    </g>\n    <g id=\"xtick_41\">\n     <g id=\"line2d_41\">\n      <g>\n       <use style=\"stroke:#000000;stroke-width:0.6;\" x=\"247.102761\" xlink:href=\"#m8b746b84fb\" y=\"224.64\"/>\n      </g>\n     </g>\n    </g>\n    <g id=\"xtick_42\">\n     <g id=\"line2d_42\">\n      <g>\n       <use style=\"stroke:#000000;stroke-width:0.6;\" x=\"254.291718\" xlink:href=\"#m8b746b84fb\" y=\"224.64\"/>\n      </g>\n     </g>\n    </g>\n    <g id=\"xtick_43\">\n     <g id=\"line2d_43\">\n      <g>\n       <use style=\"stroke:#000000;stroke-width:0.6;\" x=\"261.480675\" xlink:href=\"#m8b746b84fb\" y=\"224.64\"/>\n      </g>\n     </g>\n    </g>\n    <g id=\"xtick_44\">\n     <g id=\"line2d_44\">\n      <g>\n       <use style=\"stroke:#000000;stroke-width:0.6;\" x=\"268.669632\" xlink:href=\"#m8b746b84fb\" y=\"224.64\"/>\n      </g>\n     </g>\n    </g>\n    <g id=\"xtick_45\">\n     <g id=\"line2d_45\">\n      <g>\n       <use style=\"stroke:#000000;stroke-width:0.6;\" x=\"275.858589\" xlink:href=\"#m8b746b84fb\" y=\"224.64\"/>\n      </g>\n     </g>\n    </g>\n    <g id=\"xtick_46\">\n     <g id=\"line2d_46\">\n      <g>\n       <use style=\"stroke:#000000;stroke-width:0.6;\" x=\"283.047546\" xlink:href=\"#m8b746b84fb\" y=\"224.64\"/>\n      </g>\n     </g>\n    </g>\n    <g id=\"xtick_47\">\n     <g id=\"line2d_47\">\n      <g>\n       <use style=\"stroke:#000000;stroke-width:0.6;\" x=\"290.236503\" xlink:href=\"#m8b746b84fb\" y=\"224.64\"/>\n      </g>\n     </g>\n    </g>\n    <g id=\"xtick_48\">\n     <g id=\"line2d_48\">\n      <g>\n       <use style=\"stroke:#000000;stroke-width:0.6;\" x=\"297.42546\" xlink:href=\"#m8b746b84fb\" y=\"224.64\"/>\n      </g>\n     </g>\n    </g>\n    <g id=\"xtick_49\">\n     <g id=\"line2d_49\">\n      <g>\n       <use style=\"stroke:#000000;stroke-width:0.6;\" x=\"304.614417\" xlink:href=\"#m8b746b84fb\" y=\"224.64\"/>\n      </g>\n     </g>\n    </g>\n    <g id=\"xtick_50\">\n     <g id=\"line2d_50\">\n      <g>\n       <use style=\"stroke:#000000;stroke-width:0.6;\" x=\"311.803374\" xlink:href=\"#m8b746b84fb\" y=\"224.64\"/>\n      </g>\n     </g>\n    </g>\n    <g id=\"xtick_51\">\n     <g id=\"line2d_51\">\n      <g>\n       <use style=\"stroke:#000000;stroke-width:0.6;\" x=\"318.992331\" xlink:href=\"#m8b746b84fb\" y=\"224.64\"/>\n      </g>\n     </g>\n    </g>\n    <g id=\"xtick_52\">\n     <g id=\"line2d_52\">\n      <g>\n       <use style=\"stroke:#000000;stroke-width:0.6;\" x=\"326.181288\" xlink:href=\"#m8b746b84fb\" y=\"224.64\"/>\n      </g>\n     </g>\n    </g>\n    <g id=\"xtick_53\">\n     <g id=\"line2d_53\">\n      <g>\n       <use style=\"stroke:#000000;stroke-width:0.6;\" x=\"333.370245\" xlink:href=\"#m8b746b84fb\" y=\"224.64\"/>\n      </g>\n     </g>\n    </g>\n    <g id=\"xtick_54\">\n     <g id=\"line2d_54\">\n      <g>\n       <use style=\"stroke:#000000;stroke-width:0.6;\" x=\"340.559202\" xlink:href=\"#m8b746b84fb\" y=\"224.64\"/>\n      </g>\n     </g>\n    </g>\n    <g id=\"xtick_55\">\n     <g id=\"line2d_55\">\n      <g>\n       <use style=\"stroke:#000000;stroke-width:0.6;\" x=\"347.74816\" xlink:href=\"#m8b746b84fb\" y=\"224.64\"/>\n      </g>\n     </g>\n    </g>\n    <g id=\"xtick_56\">\n     <g id=\"line2d_56\">\n      <g>\n       <use style=\"stroke:#000000;stroke-width:0.6;\" x=\"354.937117\" xlink:href=\"#m8b746b84fb\" y=\"224.64\"/>\n      </g>\n     </g>\n    </g>\n    <g id=\"xtick_57\">\n     <g id=\"line2d_57\">\n      <g>\n       <use style=\"stroke:#000000;stroke-width:0.6;\" x=\"362.126074\" xlink:href=\"#m8b746b84fb\" y=\"224.64\"/>\n      </g>\n     </g>\n    </g>\n    <g id=\"xtick_58\">\n     <g id=\"line2d_58\">\n      <g>\n       <use style=\"stroke:#000000;stroke-width:0.6;\" x=\"369.315031\" xlink:href=\"#m8b746b84fb\" y=\"224.64\"/>\n      </g>\n     </g>\n    </g>\n    <g id=\"text_12\">\n     <!-- date -->\n     <defs>\n      <path d=\"M 45.40625 46.390625 \nL 45.40625 75.984375 \nL 54.390625 75.984375 \nL 54.390625 0 \nL 45.40625 0 \nL 45.40625 8.203125 \nQ 42.578125 3.328125 38.25 0.953125 \nQ 33.9375 -1.421875 27.875 -1.421875 \nQ 17.96875 -1.421875 11.734375 6.484375 \nQ 5.515625 14.40625 5.515625 27.296875 \nQ 5.515625 40.1875 11.734375 48.09375 \nQ 17.96875 56 27.875 56 \nQ 33.9375 56 38.25 53.625 \nQ 42.578125 51.265625 45.40625 46.390625 \nz\nM 14.796875 27.296875 \nQ 14.796875 17.390625 18.875 11.75 \nQ 22.953125 6.109375 30.078125 6.109375 \nQ 37.203125 6.109375 41.296875 11.75 \nQ 45.40625 17.390625 45.40625 27.296875 \nQ 45.40625 37.203125 41.296875 42.84375 \nQ 37.203125 48.484375 30.078125 48.484375 \nQ 22.953125 48.484375 18.875 42.84375 \nQ 14.796875 37.203125 14.796875 27.296875 \nz\n\" id=\"DejaVuSans-100\"/>\n     </defs>\n     <g transform=\"translate(195.775 264.114375)scale(0.1 -0.1)\">\n      <use xlink:href=\"#DejaVuSans-100\"/>\n      <use x=\"63.476562\" xlink:href=\"#DejaVuSans-97\"/>\n      <use x=\"124.755859\" xlink:href=\"#DejaVuSans-116\"/>\n      <use x=\"163.964844\" xlink:href=\"#DejaVuSans-101\"/>\n     </g>\n    </g>\n   </g>\n   <g id=\"matplotlib.axis_2\">\n    <g id=\"ytick_1\">\n     <g id=\"line2d_59\">\n      <defs>\n       <path d=\"M 0 0 \nL -3.5 0 \n\" id=\"mb81e62779e\" style=\"stroke:#000000;stroke-width:0.8;\"/>\n      </defs>\n      <g>\n       <use style=\"stroke:#000000;stroke-width:0.8;\" x=\"39.65\" xlink:href=\"#mb81e62779e\" y=\"214.756364\"/>\n      </g>\n     </g>\n     <g id=\"text_13\">\n      <!-- 0 -->\n      <g transform=\"translate(26.2875 218.555582)scale(0.1 -0.1)\">\n       <use xlink:href=\"#DejaVuSans-48\"/>\n      </g>\n     </g>\n    </g>\n    <g id=\"ytick_2\">\n     <g id=\"line2d_60\">\n      <g>\n       <use style=\"stroke:#000000;stroke-width:0.8;\" x=\"39.65\" xlink:href=\"#mb81e62779e\" y=\"182.430488\"/>\n      </g>\n     </g>\n     <g id=\"text_14\">\n      <!-- 1000 -->\n      <defs>\n       <path d=\"M 12.40625 8.296875 \nL 28.515625 8.296875 \nL 28.515625 63.921875 \nL 10.984375 60.40625 \nL 10.984375 69.390625 \nL 28.421875 72.90625 \nL 38.28125 72.90625 \nL 38.28125 8.296875 \nL 54.390625 8.296875 \nL 54.390625 0 \nL 12.40625 0 \nz\n\" id=\"DejaVuSans-49\"/>\n      </defs>\n      <g transform=\"translate(7.2 186.229707)scale(0.1 -0.1)\">\n       <use xlink:href=\"#DejaVuSans-49\"/>\n       <use x=\"63.623047\" xlink:href=\"#DejaVuSans-48\"/>\n       <use x=\"127.246094\" xlink:href=\"#DejaVuSans-48\"/>\n       <use x=\"190.869141\" xlink:href=\"#DejaVuSans-48\"/>\n      </g>\n     </g>\n    </g>\n    <g id=\"ytick_3\">\n     <g id=\"line2d_61\">\n      <g>\n       <use style=\"stroke:#000000;stroke-width:0.8;\" x=\"39.65\" xlink:href=\"#mb81e62779e\" y=\"150.104613\"/>\n      </g>\n     </g>\n     <g id=\"text_15\">\n      <!-- 2000 -->\n      <g transform=\"translate(7.2 153.903832)scale(0.1 -0.1)\">\n       <use xlink:href=\"#DejaVuSans-50\"/>\n       <use x=\"63.623047\" xlink:href=\"#DejaVuSans-48\"/>\n       <use x=\"127.246094\" xlink:href=\"#DejaVuSans-48\"/>\n       <use x=\"190.869141\" xlink:href=\"#DejaVuSans-48\"/>\n      </g>\n     </g>\n    </g>\n    <g id=\"ytick_4\">\n     <g id=\"line2d_62\">\n      <g>\n       <use style=\"stroke:#000000;stroke-width:0.8;\" x=\"39.65\" xlink:href=\"#mb81e62779e\" y=\"117.778738\"/>\n      </g>\n     </g>\n     <g id=\"text_16\">\n      <!-- 3000 -->\n      <defs>\n       <path d=\"M 40.578125 39.3125 \nQ 47.65625 37.796875 51.625 33 \nQ 55.609375 28.21875 55.609375 21.1875 \nQ 55.609375 10.40625 48.1875 4.484375 \nQ 40.765625 -1.421875 27.09375 -1.421875 \nQ 22.515625 -1.421875 17.65625 -0.515625 \nQ 12.796875 0.390625 7.625 2.203125 \nL 7.625 11.71875 \nQ 11.71875 9.328125 16.59375 8.109375 \nQ 21.484375 6.890625 26.8125 6.890625 \nQ 36.078125 6.890625 40.9375 10.546875 \nQ 45.796875 14.203125 45.796875 21.1875 \nQ 45.796875 27.640625 41.28125 31.265625 \nQ 36.765625 34.90625 28.71875 34.90625 \nL 20.21875 34.90625 \nL 20.21875 43.015625 \nL 29.109375 43.015625 \nQ 36.375 43.015625 40.234375 45.921875 \nQ 44.09375 48.828125 44.09375 54.296875 \nQ 44.09375 59.90625 40.109375 62.90625 \nQ 36.140625 65.921875 28.71875 65.921875 \nQ 24.65625 65.921875 20.015625 65.03125 \nQ 15.375 64.15625 9.8125 62.3125 \nL 9.8125 71.09375 \nQ 15.4375 72.65625 20.34375 73.4375 \nQ 25.25 74.21875 29.59375 74.21875 \nQ 40.828125 74.21875 47.359375 69.109375 \nQ 53.90625 64.015625 53.90625 55.328125 \nQ 53.90625 49.265625 50.4375 45.09375 \nQ 46.96875 40.921875 40.578125 39.3125 \nz\n\" id=\"DejaVuSans-51\"/>\n      </defs>\n      <g transform=\"translate(7.2 121.577957)scale(0.1 -0.1)\">\n       <use xlink:href=\"#DejaVuSans-51\"/>\n       <use x=\"63.623047\" xlink:href=\"#DejaVuSans-48\"/>\n       <use x=\"127.246094\" xlink:href=\"#DejaVuSans-48\"/>\n       <use x=\"190.869141\" xlink:href=\"#DejaVuSans-48\"/>\n      </g>\n     </g>\n    </g>\n    <g id=\"ytick_5\">\n     <g id=\"line2d_63\">\n      <g>\n       <use style=\"stroke:#000000;stroke-width:0.8;\" x=\"39.65\" xlink:href=\"#mb81e62779e\" y=\"85.452863\"/>\n      </g>\n     </g>\n     <g id=\"text_17\">\n      <!-- 4000 -->\n      <defs>\n       <path d=\"M 37.796875 64.3125 \nL 12.890625 25.390625 \nL 37.796875 25.390625 \nz\nM 35.203125 72.90625 \nL 47.609375 72.90625 \nL 47.609375 25.390625 \nL 58.015625 25.390625 \nL 58.015625 17.1875 \nL 47.609375 17.1875 \nL 47.609375 0 \nL 37.796875 0 \nL 37.796875 17.1875 \nL 4.890625 17.1875 \nL 4.890625 26.703125 \nz\n\" id=\"DejaVuSans-52\"/>\n      </defs>\n      <g transform=\"translate(7.2 89.252081)scale(0.1 -0.1)\">\n       <use xlink:href=\"#DejaVuSans-52\"/>\n       <use x=\"63.623047\" xlink:href=\"#DejaVuSans-48\"/>\n       <use x=\"127.246094\" xlink:href=\"#DejaVuSans-48\"/>\n       <use x=\"190.869141\" xlink:href=\"#DejaVuSans-48\"/>\n      </g>\n     </g>\n    </g>\n    <g id=\"ytick_6\">\n     <g id=\"line2d_64\">\n      <g>\n       <use style=\"stroke:#000000;stroke-width:0.8;\" x=\"39.65\" xlink:href=\"#mb81e62779e\" y=\"53.126987\"/>\n      </g>\n     </g>\n     <g id=\"text_18\">\n      <!-- 5000 -->\n      <defs>\n       <path d=\"M 10.796875 72.90625 \nL 49.515625 72.90625 \nL 49.515625 64.59375 \nL 19.828125 64.59375 \nL 19.828125 46.734375 \nQ 21.96875 47.46875 24.109375 47.828125 \nQ 26.265625 48.1875 28.421875 48.1875 \nQ 40.625 48.1875 47.75 41.5 \nQ 54.890625 34.8125 54.890625 23.390625 \nQ 54.890625 11.625 47.5625 5.09375 \nQ 40.234375 -1.421875 26.90625 -1.421875 \nQ 22.3125 -1.421875 17.546875 -0.640625 \nQ 12.796875 0.140625 7.71875 1.703125 \nL 7.71875 11.625 \nQ 12.109375 9.234375 16.796875 8.0625 \nQ 21.484375 6.890625 26.703125 6.890625 \nQ 35.15625 6.890625 40.078125 11.328125 \nQ 45.015625 15.765625 45.015625 23.390625 \nQ 45.015625 31 40.078125 35.4375 \nQ 35.15625 39.890625 26.703125 39.890625 \nQ 22.75 39.890625 18.8125 39.015625 \nQ 14.890625 38.140625 10.796875 36.28125 \nz\n\" id=\"DejaVuSans-53\"/>\n      </defs>\n      <g transform=\"translate(7.2 56.926206)scale(0.1 -0.1)\">\n       <use xlink:href=\"#DejaVuSans-53\"/>\n       <use x=\"63.623047\" xlink:href=\"#DejaVuSans-48\"/>\n       <use x=\"127.246094\" xlink:href=\"#DejaVuSans-48\"/>\n       <use x=\"190.869141\" xlink:href=\"#DejaVuSans-48\"/>\n      </g>\n     </g>\n    </g>\n    <g id=\"ytick_7\">\n     <g id=\"line2d_65\">\n      <g>\n       <use style=\"stroke:#000000;stroke-width:0.8;\" x=\"39.65\" xlink:href=\"#mb81e62779e\" y=\"20.801112\"/>\n      </g>\n     </g>\n     <g id=\"text_19\">\n      <!-- 6000 -->\n      <defs>\n       <path d=\"M 33.015625 40.375 \nQ 26.375 40.375 22.484375 35.828125 \nQ 18.609375 31.296875 18.609375 23.390625 \nQ 18.609375 15.53125 22.484375 10.953125 \nQ 26.375 6.390625 33.015625 6.390625 \nQ 39.65625 6.390625 43.53125 10.953125 \nQ 47.40625 15.53125 47.40625 23.390625 \nQ 47.40625 31.296875 43.53125 35.828125 \nQ 39.65625 40.375 33.015625 40.375 \nz\nM 52.59375 71.296875 \nL 52.59375 62.3125 \nQ 48.875 64.0625 45.09375 64.984375 \nQ 41.3125 65.921875 37.59375 65.921875 \nQ 27.828125 65.921875 22.671875 59.328125 \nQ 17.53125 52.734375 16.796875 39.40625 \nQ 19.671875 43.65625 24.015625 45.921875 \nQ 28.375 48.1875 33.59375 48.1875 \nQ 44.578125 48.1875 50.953125 41.515625 \nQ 57.328125 34.859375 57.328125 23.390625 \nQ 57.328125 12.15625 50.6875 5.359375 \nQ 44.046875 -1.421875 33.015625 -1.421875 \nQ 20.359375 -1.421875 13.671875 8.265625 \nQ 6.984375 17.96875 6.984375 36.375 \nQ 6.984375 53.65625 15.1875 63.9375 \nQ 23.390625 74.21875 37.203125 74.21875 \nQ 40.921875 74.21875 44.703125 73.484375 \nQ 48.484375 72.75 52.59375 71.296875 \nz\n\" id=\"DejaVuSans-54\"/>\n      </defs>\n      <g transform=\"translate(7.2 24.600331)scale(0.1 -0.1)\">\n       <use xlink:href=\"#DejaVuSans-54\"/>\n       <use x=\"63.623047\" xlink:href=\"#DejaVuSans-48\"/>\n       <use x=\"127.246094\" xlink:href=\"#DejaVuSans-48\"/>\n       <use x=\"190.869141\" xlink:href=\"#DejaVuSans-48\"/>\n      </g>\n     </g>\n    </g>\n   </g>\n   <g id=\"line2d_66\">\n    <path clip-path=\"url(#p7881aaa9b6)\" d=\"M 39.65 214.756364 \nL 101.269632 214.691712 \nL 103.32362 214.62706 \nL 106.404601 214.659386 \nL 107.431595 214.368453 \nL 108.458589 214.562408 \nL 110.512577 214.594734 \nL 111.539571 214.271476 \nL 112.566564 214.23915 \nL 113.593558 214.433105 \nL 114.620552 213.624958 \nL 115.647546 213.52798 \nL 116.67454 212.558204 \nL 117.701534 212.816811 \nL 118.728528 210.877259 \nL 119.755521 210.069112 \nL 120.782515 210.844933 \nL 121.809509 209.713527 \nL 122.836503 210.715629 \nL 123.863497 204.056499 \nL 124.890491 210.618652 \nL 126.944479 204.638365 \nL 127.971472 168.659666 \nL 128.998466 194.294085 \nL 130.02546 193.518264 \nL 131.052454 191.772666 \nL 132.079448 186.665178 \nL 133.106442 176.967415 \nL 135.160429 180.523262 \nL 136.187423 160.675174 \nL 137.214417 174.316694 \nL 138.241411 170.696196 \nL 139.268405 162.582401 \nL 140.295399 177.355326 \nL 141.322393 174.995537 \nL 142.349387 169.791071 \nL 143.37638 167.108023 \nL 144.403374 169.985026 \nL 145.430368 176.999741 \nL 146.457362 180.361632 \nL 147.484356 172.797378 \nL 148.51135 170.049678 \nL 149.538344 172.15086 \nL 150.565337 159.252836 \nL 151.592331 156.860721 \nL 152.619325 167.269653 \nL 153.646319 168.336407 \nL 154.673313 148.617623 \nL 155.700307 163.358222 \nL 156.727301 157.668868 \nL 157.754294 152.690683 \nL 158.781288 157.280957 \nL 159.808282 167.431282 \nL 160.835276 164.877538 \nL 161.86227 162.873334 \nL 162.889264 165.427078 \nL 163.916258 163.940088 \nL 164.943252 161.450995 \nL 165.970245 155.761641 \nL 166.997239 161.321692 \nL 168.024233 125.536948 \nL 169.051227 172.797378 \nL 170.078221 173.573199 \nL 171.105215 167.883844 \nL 172.132209 168.659666 \nL 173.159202 165.87964 \nL 174.186196 173.767154 \nL 175.21319 177.710911 \nL 176.240184 178.131147 \nL 177.267178 176.741134 \nL 178.294172 178.519057 \nL 179.321166 178.454406 \nL 180.34816 175.932987 \nL 181.375153 174.316694 \nL 182.402147 177.969518 \nL 183.429141 180.167677 \nL 184.456135 181.137453 \nL 185.483129 182.753747 \nL 186.510123 175.254144 \nL 187.537117 177.387652 \nL 188.56411 177.87254 \nL 190.618098 182.042578 \nL 191.645092 184.499344 \nL 192.672086 186.5682 \nL 193.69908 182.656769 \nL 194.726074 185.469121 \nL 195.753067 189.800788 \nL 196.780061 190.285676 \nL 197.807055 190.25335 \nL 198.834049 191.966622 \nL 200.888037 194.035478 \nL 201.915031 195.069906 \nL 202.942025 191.417082 \nL 203.969018 194.003152 \nL 204.996012 197.138762 \nL 206.023006 201.535081 \nL 207.05 199.498551 \nL 208.076994 201.664384 \nL 209.103988 201.405777 \nL 210.130982 199.66018 \nL 211.157975 202.569509 \nL 212.184969 203.119049 \nL 213.211963 204.412084 \nL 214.238957 202.278576 \nL 215.265951 202.892767 \nL 216.292945 201.535081 \nL 217.319939 202.149272 \nL 218.346933 204.476735 \nL 219.373926 204.703016 \nL 220.40092 204.218128 \nL 221.427914 205.737444 \nL 222.454908 202.828116 \nL 223.481902 209.196313 \nL 224.508896 207.062805 \nL 225.53589 207.709323 \nL 226.562883 193.162679 \nL 227.589877 205.511163 \nL 228.616871 214.756364 \nL 229.643865 196.427592 \nL 230.670859 204.444409 \nL 231.697853 207.450716 \nL 232.724847 207.676997 \nL 233.75184 201.858339 \nL 234.778834 207.256761 \nL 235.805828 206.125355 \nL 236.832822 202.763464 \nL 237.859816 204.379758 \nL 238.88681 207.612345 \nL 239.913804 206.86885 \nL 240.940798 196.492244 \nL 241.967791 204.056499 \nL 242.994785 203.73324 \nL 244.021779 200.629956 \nL 245.048773 201.664384 \nL 246.075767 214.756364 \nL 247.102761 192.774768 \nL 248.129755 189.70381 \nL 249.156748 196.298289 \nL 250.183742 197.203413 \nL 251.210736 200.791586 \nL 252.23773 197.494346 \nL 253.264724 203.442307 \nL 254.291718 203.280678 \nL 255.318712 192.160577 \nL 256.345706 202.375553 \nL 257.372699 199.369247 \nL 258.399693 204.121151 \nL 259.426687 198.17319 \nL 260.453681 205.478837 \nL 261.480675 205.543489 \nL 262.507669 210.00446 \nL 263.534663 190.188698 \nL 264.561656 201.987643 \nL 265.58865 202.666486 \nL 266.615644 201.050193 \nL 267.642638 207.127457 \nL 268.669632 206.836524 \nL 269.696626 193.227331 \nL 270.72362 205.414186 \nL 271.750613 201.082518 \nL 272.777607 201.664384 \nL 273.804601 201.244148 \nL 274.831595 207.095131 \nL 275.858589 208.35584 \nL 276.885583 189.380552 \nL 277.912577 205.640467 \nL 278.939571 203.89487 \nL 279.966564 202.375553 \nL 280.993558 198.625752 \nL 282.020552 206.448614 \nL 283.047546 206.125355 \nL 284.07454 190.479631 \nL 285.101534 204.347432 \nL 286.128528 200.274372 \nL 287.155521 200.823911 \nL 288.182515 198.270167 \nL 289.209509 204.573713 \nL 290.236503 206.125355 \nL 291.263497 182.171881 \nL 292.290491 199.336921 \nL 293.317485 198.658078 \nL 294.344479 196.330615 \nL 295.371472 194.358736 \nL 296.398466 202.763464 \nL 297.42546 201.826014 \nL 298.452454 206.771872 \nL 299.479448 162.841008 \nL 300.506442 197.106436 \nL 301.533436 194.391062 \nL 302.560429 192.063599 \nL 303.587423 198.108538 \nL 304.614417 198.01156 \nL 305.641411 171.084106 \nL 306.668405 189.121945 \nL 307.695399 184.240737 \nL 308.722393 178.551383 \nL 309.749387 181.00815 \nL 310.77638 186.859133 \nL 311.803374 186.471223 \nL 312.830368 157.668868 \nL 313.857362 174.413671 \nL 314.884356 179.52116 \nL 315.91135 171.407365 \nL 316.938344 170.728522 \nL 317.965337 175.480425 \nL 318.992331 167.754541 \nL 320.019325 144.415259 \nL 321.046319 161.095411 \nL 322.073313 156.666766 \nL 323.100307 157.313283 \nL 324.127301 146.096205 \nL 325.154294 156.181878 \nL 326.181288 160.287264 \nL 327.208282 124.114609 \nL 328.235276 138.37032 \nL 329.26227 156.569788 \nL 330.289264 136.010531 \nL 331.316258 132.066775 \nL 332.343252 214.756364 \nL 333.370245 214.756364 \nL 334.397239 62.113581 \nL 335.424233 84.095176 \nL 336.451227 133.74772 \nL 337.478221 138.952186 \nL 338.505215 138.014736 \nL 339.532209 143.15455 \nL 340.559202 155.69699 \nL 341.586196 108.43656 \nL 342.61319 141.990818 \nL 343.640184 128.381625 \nL 344.667178 124.631823 \nL 345.694172 131.226302 \nL 346.721166 142.766639 \nL 347.74816 145.417361 \nL 348.775153 81.929342 \nL 349.802147 128.316973 \nL 350.829141 127.508826 \nL 351.856135 119.201076 \nL 352.883129 103.005813 \nL 353.910123 133.553765 \nL 354.937117 139.437074 \nL 355.96411 104.137218 \nL 356.991104 63.729874 \nL 358.018098 125.278341 \nL 360.072086 70.227375 \nL 361.09908 77.500697 \nL 362.126074 83.577962 \nL 363.153067 65.346168 \nL 364.180061 75.690448 \nL 365.207055 84.677042 \nL 366.234049 36.446836 \nL 367.261043 61.499389 \nL 368.288037 65.637101 \nL 369.315031 80.733285 \nL 370.342025 17.083636 \nL 371.369018 76.530921 \nL 372.396012 64.731977 \nL 373.423006 64.699651 \nL 374.45 54.161415 \nL 374.45 54.161415 \n\" style=\"fill:none;stroke:#1f77b4;stroke-linecap:square;stroke-width:1.5;\"/>\n   </g>\n   <g id=\"patch_3\">\n    <path d=\"M 39.65 224.64 \nL 39.65 7.2 \n\" style=\"fill:none;stroke:#000000;stroke-linecap:square;stroke-linejoin:miter;stroke-width:0.8;\"/>\n   </g>\n   <g id=\"patch_4\">\n    <path d=\"M 374.45 224.64 \nL 374.45 7.2 \n\" style=\"fill:none;stroke:#000000;stroke-linecap:square;stroke-linejoin:miter;stroke-width:0.8;\"/>\n   </g>\n   <g id=\"patch_5\">\n    <path d=\"M 39.65 224.64 \nL 374.45 224.64 \n\" style=\"fill:none;stroke:#000000;stroke-linecap:square;stroke-linejoin:miter;stroke-width:0.8;\"/>\n   </g>\n   <g id=\"patch_6\">\n    <path d=\"M 39.65 7.2 \nL 374.45 7.2 \n\" style=\"fill:none;stroke:#000000;stroke-linecap:square;stroke-linejoin:miter;stroke-width:0.8;\"/>\n   </g>\n   <g id=\"legend_1\">\n    <g id=\"patch_7\">\n     <path d=\"M 281.582813 30.15625 \nL 367.45 30.15625 \nQ 369.45 30.15625 369.45 28.15625 \nL 369.45 14.2 \nQ 369.45 12.2 367.45 12.2 \nL 281.582813 12.2 \nQ 279.582813 12.2 279.582813 14.2 \nL 279.582813 28.15625 \nQ 279.582813 30.15625 281.582813 30.15625 \nz\n\" style=\"fill:#ffffff;opacity:0.8;stroke:#cccccc;stroke-linejoin:miter;\"/>\n    </g>\n    <g id=\"line2d_67\">\n     <path d=\"M 283.582813 20.298438 \nL 303.582813 20.298438 \n\" style=\"fill:none;stroke:#1f77b4;stroke-linecap:square;stroke-width:1.5;\"/>\n    </g>\n    <g id=\"line2d_68\"/>\n    <g id=\"text_20\">\n     <!-- new_cases -->\n     <defs>\n      <path d=\"M 4.203125 54.6875 \nL 13.1875 54.6875 \nL 24.421875 12.015625 \nL 35.59375 54.6875 \nL 46.1875 54.6875 \nL 57.421875 12.015625 \nL 68.609375 54.6875 \nL 77.59375 54.6875 \nL 63.28125 0 \nL 52.6875 0 \nL 40.921875 44.828125 \nL 29.109375 0 \nL 18.5 0 \nz\n\" id=\"DejaVuSans-119\"/>\n      <path d=\"M 50.984375 -16.609375 \nL 50.984375 -23.578125 \nL -0.984375 -23.578125 \nL -0.984375 -16.609375 \nz\n\" id=\"DejaVuSans-95\"/>\n      <path d=\"M 44.28125 53.078125 \nL 44.28125 44.578125 \nQ 40.484375 46.53125 36.375 47.5 \nQ 32.28125 48.484375 27.875 48.484375 \nQ 21.1875 48.484375 17.84375 46.4375 \nQ 14.5 44.390625 14.5 40.28125 \nQ 14.5 37.15625 16.890625 35.375 \nQ 19.28125 33.59375 26.515625 31.984375 \nL 29.59375 31.296875 \nQ 39.15625 29.25 43.1875 25.515625 \nQ 47.21875 21.78125 47.21875 15.09375 \nQ 47.21875 7.46875 41.1875 3.015625 \nQ 35.15625 -1.421875 24.609375 -1.421875 \nQ 20.21875 -1.421875 15.453125 -0.5625 \nQ 10.6875 0.296875 5.421875 2 \nL 5.421875 11.28125 \nQ 10.40625 8.6875 15.234375 7.390625 \nQ 20.0625 6.109375 24.8125 6.109375 \nQ 31.15625 6.109375 34.5625 8.28125 \nQ 37.984375 10.453125 37.984375 14.40625 \nQ 37.984375 18.0625 35.515625 20.015625 \nQ 33.0625 21.96875 24.703125 23.78125 \nL 21.578125 24.515625 \nQ 13.234375 26.265625 9.515625 29.90625 \nQ 5.8125 33.546875 5.8125 39.890625 \nQ 5.8125 47.609375 11.28125 51.796875 \nQ 16.75 56 26.8125 56 \nQ 31.78125 56 36.171875 55.265625 \nQ 40.578125 54.546875 44.28125 53.078125 \nz\n\" id=\"DejaVuSans-115\"/>\n     </defs>\n     <g transform=\"translate(311.582813 23.798438)scale(0.1 -0.1)\">\n      <use xlink:href=\"#DejaVuSans-110\"/>\n      <use x=\"63.378906\" xlink:href=\"#DejaVuSans-101\"/>\n      <use x=\"124.902344\" xlink:href=\"#DejaVuSans-119\"/>\n      <use x=\"206.689453\" xlink:href=\"#DejaVuSans-95\"/>\n      <use x=\"256.689453\" xlink:href=\"#DejaVuSans-99\"/>\n      <use x=\"311.669922\" xlink:href=\"#DejaVuSans-97\"/>\n      <use x=\"372.949219\" xlink:href=\"#DejaVuSans-115\"/>\n      <use x=\"425.048828\" xlink:href=\"#DejaVuSans-101\"/>\n      <use x=\"486.572266\" xlink:href=\"#DejaVuSans-115\"/>\n     </g>\n    </g>\n   </g>\n  </g>\n </g>\n <defs>\n  <clipPath id=\"p7881aaa9b6\">\n   <rect height=\"217.44\" width=\"334.8\" x=\"39.65\" y=\"7.2\"/>\n  </clipPath>\n </defs>\n</svg>\n",
      "image/png": "[encoded data removed]"
     },
     "metadata": {
      "needs_background": "light"
     }
    }
   ],
   "source": [
    "country_select = \"Canada\"\n",
    "combined_df[combined_df.location == country_select].plot('date', 'new_cases')\n",
    "plt.show()"
   ]
  },
  {
   "cell_type": "code",
   "execution_count": 10,
   "metadata": {},
   "outputs": [
    {
     "output_type": "execute_result",
     "data": {
      "text/plain": [
       "            date  new_cases  new_deaths  new_cases_per_million  \\\n",
       "5770  2020-05-20     -209.0         0.0                -17.240   \n",
       "15663 2020-05-07    -2461.0        49.0               -139.488   \n",
       "15665 2020-05-09    -1480.0        50.0                -83.886   \n",
       "15668 2020-05-12      -50.0        18.0                 -2.834   \n",
       "15786 2020-09-07    -8261.0      3800.0               -468.229   \n",
       "\n",
       "       new_deaths_per_million  stringency_index  new_cases_smoothed  \\\n",
       "5770                    0.000             57.41             -28.143   \n",
       "15663                   2.777             86.11             677.857   \n",
       "15665                   2.834             86.11             354.571   \n",
       "15668                   1.020             86.11            -338.857   \n",
       "15786                 215.382             70.83            -552.000   \n",
       "\n",
       "       new_deaths_smoothed  new_cases_smoothed_per_million  \\\n",
       "5770                 0.000                          -2.321   \n",
       "15663              105.000                          38.421   \n",
       "15665               91.571                          20.097   \n",
       "15668               82.286                         -19.206   \n",
       "15786              567.000                         -31.287   \n",
       "\n",
       "       new_deaths_smoothed_per_million  ...  icu_patients  \\\n",
       "5770                             0.000  ...           NaN   \n",
       "15663                            5.951  ...           NaN   \n",
       "15665                            5.190  ...           NaN   \n",
       "15668                            4.664  ...           NaN   \n",
       "15786                           32.137  ...           NaN   \n",
       "\n",
       "       icu_patients_per_million  hosp_patients  hosp_patients_per_million  \\\n",
       "5770                        NaN            NaN                        NaN   \n",
       "15663                       NaN            NaN                        NaN   \n",
       "15665                       NaN            NaN                        NaN   \n",
       "15668                       NaN            NaN                        NaN   \n",
       "15786                       NaN            NaN                        NaN   \n",
       "\n",
       "       weekly_hosp_admissions weekly_hosp_admissions_per_million  \\\n",
       "5770                      NaN                                NaN   \n",
       "15663                     NaN                                NaN   \n",
       "15665                     NaN                                NaN   \n",
       "15668                     NaN                                NaN   \n",
       "15786                     NaN                                NaN   \n",
       "\n",
       "       weekly_icu_admissions  weekly_icu_admissions_per_million location  \\\n",
       "5770                     NaN                                NaN    Benin   \n",
       "15663                    NaN                                NaN  Ecuador   \n",
       "15665                    NaN                                NaN  Ecuador   \n",
       "15668                    NaN                                NaN  Ecuador   \n",
       "15786                    NaN                                NaN  Ecuador   \n",
       "\n",
       "           continent  \n",
       "5770          Africa  \n",
       "15663  South America  \n",
       "15665  South America  \n",
       "15668  South America  \n",
       "15786  South America  \n",
       "\n",
       "[5 rows x 35 columns]"
      ],
      "text/html": "<div>\n<style scoped>\n    .dataframe tbody tr th:only-of-type {\n        vertical-align: middle;\n    }\n\n    .dataframe tbody tr th {\n        vertical-align: top;\n    }\n\n    .dataframe thead th {\n        text-align: right;\n    }\n</style>\n<table border=\"1\" class=\"dataframe\">\n  <thead>\n    <tr style=\"text-align: right;\">\n      <th></th>\n      <th>date</th>\n      <th>new_cases</th>\n      <th>new_deaths</th>\n      <th>new_cases_per_million</th>\n      <th>new_deaths_per_million</th>\n      <th>stringency_index</th>\n      <th>new_cases_smoothed</th>\n      <th>new_deaths_smoothed</th>\n      <th>new_cases_smoothed_per_million</th>\n      <th>new_deaths_smoothed_per_million</th>\n      <th>...</th>\n      <th>icu_patients</th>\n      <th>icu_patients_per_million</th>\n      <th>hosp_patients</th>\n      <th>hosp_patients_per_million</th>\n      <th>weekly_hosp_admissions</th>\n      <th>weekly_hosp_admissions_per_million</th>\n      <th>weekly_icu_admissions</th>\n      <th>weekly_icu_admissions_per_million</th>\n      <th>location</th>\n      <th>continent</th>\n    </tr>\n  </thead>\n  <tbody>\n    <tr>\n      <th>5770</th>\n      <td>2020-05-20</td>\n      <td>-209.0</td>\n      <td>0.0</td>\n      <td>-17.240</td>\n      <td>0.000</td>\n      <td>57.41</td>\n      <td>-28.143</td>\n      <td>0.000</td>\n      <td>-2.321</td>\n      <td>0.000</td>\n      <td>...</td>\n      <td>NaN</td>\n      <td>NaN</td>\n      <td>NaN</td>\n      <td>NaN</td>\n      <td>NaN</td>\n      <td>NaN</td>\n      <td>NaN</td>\n      <td>NaN</td>\n      <td>Benin</td>\n      <td>Africa</td>\n    </tr>\n    <tr>\n      <th>15663</th>\n      <td>2020-05-07</td>\n      <td>-2461.0</td>\n      <td>49.0</td>\n      <td>-139.488</td>\n      <td>2.777</td>\n      <td>86.11</td>\n      <td>677.857</td>\n      <td>105.000</td>\n      <td>38.421</td>\n      <td>5.951</td>\n      <td>...</td>\n      <td>NaN</td>\n      <td>NaN</td>\n      <td>NaN</td>\n      <td>NaN</td>\n      <td>NaN</td>\n      <td>NaN</td>\n      <td>NaN</td>\n      <td>NaN</td>\n      <td>Ecuador</td>\n      <td>South America</td>\n    </tr>\n    <tr>\n      <th>15665</th>\n      <td>2020-05-09</td>\n      <td>-1480.0</td>\n      <td>50.0</td>\n      <td>-83.886</td>\n      <td>2.834</td>\n      <td>86.11</td>\n      <td>354.571</td>\n      <td>91.571</td>\n      <td>20.097</td>\n      <td>5.190</td>\n      <td>...</td>\n      <td>NaN</td>\n      <td>NaN</td>\n      <td>NaN</td>\n      <td>NaN</td>\n      <td>NaN</td>\n      <td>NaN</td>\n      <td>NaN</td>\n      <td>NaN</td>\n      <td>Ecuador</td>\n      <td>South America</td>\n    </tr>\n    <tr>\n      <th>15668</th>\n      <td>2020-05-12</td>\n      <td>-50.0</td>\n      <td>18.0</td>\n      <td>-2.834</td>\n      <td>1.020</td>\n      <td>86.11</td>\n      <td>-338.857</td>\n      <td>82.286</td>\n      <td>-19.206</td>\n      <td>4.664</td>\n      <td>...</td>\n      <td>NaN</td>\n      <td>NaN</td>\n      <td>NaN</td>\n      <td>NaN</td>\n      <td>NaN</td>\n      <td>NaN</td>\n      <td>NaN</td>\n      <td>NaN</td>\n      <td>Ecuador</td>\n      <td>South America</td>\n    </tr>\n    <tr>\n      <th>15786</th>\n      <td>2020-09-07</td>\n      <td>-8261.0</td>\n      <td>3800.0</td>\n      <td>-468.229</td>\n      <td>215.382</td>\n      <td>70.83</td>\n      <td>-552.000</td>\n      <td>567.000</td>\n      <td>-31.287</td>\n      <td>32.137</td>\n      <td>...</td>\n      <td>NaN</td>\n      <td>NaN</td>\n      <td>NaN</td>\n      <td>NaN</td>\n      <td>NaN</td>\n      <td>NaN</td>\n      <td>NaN</td>\n      <td>NaN</td>\n      <td>Ecuador</td>\n      <td>South America</td>\n    </tr>\n  </tbody>\n</table>\n<p>5 rows × 35 columns</p>\n</div>"
     },
     "metadata": {},
     "execution_count": 10
    }
   ],
   "source": [
    "combined_df[combined_df['new_cases'] < 0].head()"
   ]
  },
  {
   "cell_type": "code",
   "execution_count": 11,
   "metadata": {},
   "outputs": [],
   "source": [
    "combined_df['new_cases'] = np.where(combined_df['new_cases'] <0, None, combined_df['new_cases'])"
   ]
  },
  {
   "cell_type": "code",
   "execution_count": 12,
   "metadata": {},
   "outputs": [
    {
     "output_type": "execute_result",
     "data": {
      "text/plain": [
       "Empty DataFrame\n",
       "Columns: [date, new_cases, new_deaths, new_cases_per_million, new_deaths_per_million, stringency_index, new_cases_smoothed, new_deaths_smoothed, new_cases_smoothed_per_million, new_deaths_smoothed_per_million, total_cases, total_cases_per_million, total_deaths, total_deaths_per_million, reproduction_rate, country_code, total_tests, total_tests_per_thousand, tests_units, new_tests_smoothed, new_tests_smoothed_per_thousand, tests_per_case, positive_rate, new_tests, new_tests_per_thousand, icu_patients, icu_patients_per_million, hosp_patients, hosp_patients_per_million, weekly_hosp_admissions, weekly_hosp_admissions_per_million, weekly_icu_admissions, weekly_icu_admissions_per_million, location, continent]\n",
       "Index: []\n",
       "\n",
       "[0 rows x 35 columns]"
      ],
      "text/html": "<div>\n<style scoped>\n    .dataframe tbody tr th:only-of-type {\n        vertical-align: middle;\n    }\n\n    .dataframe tbody tr th {\n        vertical-align: top;\n    }\n\n    .dataframe thead th {\n        text-align: right;\n    }\n</style>\n<table border=\"1\" class=\"dataframe\">\n  <thead>\n    <tr style=\"text-align: right;\">\n      <th></th>\n      <th>date</th>\n      <th>new_cases</th>\n      <th>new_deaths</th>\n      <th>new_cases_per_million</th>\n      <th>new_deaths_per_million</th>\n      <th>stringency_index</th>\n      <th>new_cases_smoothed</th>\n      <th>new_deaths_smoothed</th>\n      <th>new_cases_smoothed_per_million</th>\n      <th>new_deaths_smoothed_per_million</th>\n      <th>...</th>\n      <th>icu_patients</th>\n      <th>icu_patients_per_million</th>\n      <th>hosp_patients</th>\n      <th>hosp_patients_per_million</th>\n      <th>weekly_hosp_admissions</th>\n      <th>weekly_hosp_admissions_per_million</th>\n      <th>weekly_icu_admissions</th>\n      <th>weekly_icu_admissions_per_million</th>\n      <th>location</th>\n      <th>continent</th>\n    </tr>\n  </thead>\n  <tbody>\n  </tbody>\n</table>\n<p>0 rows × 35 columns</p>\n</div>"
     },
     "metadata": {},
     "execution_count": 12
    }
   ],
   "source": [
    "combined_df[combined_df['new_cases'] < 0].head()"
   ]
  },
  {
   "cell_type": "code",
   "execution_count": 35,
   "metadata": {},
   "outputs": [
    {
     "output_type": "execute_result",
     "data": {
      "text/plain": [
       "['date',\n",
       " 'location',\n",
       " 'new_cases',\n",
       " 'new_deaths',\n",
       " 'new_cases_per_million',\n",
       " 'new_deaths_per_million',\n",
       " 'stringency_index',\n",
       " 'new_cases_smoothed',\n",
       " 'new_deaths_smoothed',\n",
       " 'new_cases_smoothed_per_million',\n",
       " 'new_deaths_smoothed_per_million',\n",
       " 'total_cases',\n",
       " 'total_cases_per_million',\n",
       " 'total_deaths',\n",
       " 'total_deaths_per_million',\n",
       " 'reproduction_rate',\n",
       " 'total_tests',\n",
       " 'total_tests_per_thousand',\n",
       " 'tests_units',\n",
       " 'new_tests_smoothed',\n",
       " 'new_tests_smoothed_per_thousand',\n",
       " 'tests_per_case',\n",
       " 'positive_rate',\n",
       " 'new_tests',\n",
       " 'new_tests_per_thousand',\n",
       " 'icu_patients',\n",
       " 'icu_patients_per_million',\n",
       " 'hosp_patients',\n",
       " 'hosp_patients_per_million',\n",
       " 'weekly_hosp_admissions',\n",
       " 'weekly_hosp_admissions_per_million',\n",
       " 'weekly_icu_admissions',\n",
       " 'weekly_icu_admissions_per_million',\n",
       " 'continent']"
      ]
     },
     "metadata": {},
     "execution_count": 35
    }
   ],
   "source": [
    "combined_df.columns.to_list()"
   ]
  },
  {
   "cell_type": "code",
   "execution_count": 13,
   "metadata": {},
   "outputs": [
    {
     "output_type": "execute_result",
     "data": {
      "text/plain": [
       "            date new_cases  new_deaths  new_cases_per_million  \\\n",
       "0     2019-12-31         0         0.0                  0.000   \n",
       "1     2020-01-01         0         0.0                  0.000   \n",
       "2     2020-01-02         0         0.0                  0.000   \n",
       "3     2020-01-03         0         0.0                  0.000   \n",
       "4     2020-01-04         0         0.0                  0.000   \n",
       "...          ...       ...         ...                    ...   \n",
       "57924 2020-11-17    543479      8560.0                 69.723   \n",
       "57925 2020-11-18    580828     10701.0                 74.515   \n",
       "57926 2020-11-19    624906     11070.0                 80.170   \n",
       "57927 2020-11-20    636644     10642.0                 81.675   \n",
       "57928 2020-11-21    677321     11832.0                 86.894   \n",
       "\n",
       "       new_deaths_per_million  stringency_index  new_cases_smoothed  \\\n",
       "0                       0.000               NaN                 NaN   \n",
       "1                       0.000               0.0                 NaN   \n",
       "2                       0.000               0.0                 NaN   \n",
       "3                       0.000               0.0                 NaN   \n",
       "4                       0.000               0.0                 NaN   \n",
       "...                       ...               ...                 ...   \n",
       "57924                   1.098               NaN          590026.286   \n",
       "57925                   1.373               NaN          592135.429   \n",
       "57926                   1.420               NaN          592511.286   \n",
       "57927                   1.365               NaN          590957.714   \n",
       "57928                   1.518               NaN          597087.857   \n",
       "\n",
       "       new_deaths_smoothed  new_cases_smoothed_per_million  \\\n",
       "0                      NaN                             NaN   \n",
       "1                      NaN                             NaN   \n",
       "2                      NaN                             NaN   \n",
       "3                      NaN                             NaN   \n",
       "4                      NaN                             NaN   \n",
       "...                    ...                             ...   \n",
       "57924             9149.000                          75.695   \n",
       "57925             9232.571                          75.965   \n",
       "57926             9296.286                          76.014   \n",
       "57927             9510.286                          75.814   \n",
       "57928             9775.429                          76.601   \n",
       "\n",
       "       new_deaths_smoothed_per_million  ...  icu_patients  \\\n",
       "0                                  NaN  ...           NaN   \n",
       "1                                  NaN  ...           NaN   \n",
       "2                                  NaN  ...           NaN   \n",
       "3                                  NaN  ...           NaN   \n",
       "4                                  NaN  ...           NaN   \n",
       "...                                ...  ...           ...   \n",
       "57924                            1.174  ...           NaN   \n",
       "57925                            1.184  ...           NaN   \n",
       "57926                            1.193  ...           NaN   \n",
       "57927                            1.220  ...           NaN   \n",
       "57928                            1.254  ...           NaN   \n",
       "\n",
       "       icu_patients_per_million  hosp_patients  hosp_patients_per_million  \\\n",
       "0                           NaN            NaN                        NaN   \n",
       "1                           NaN            NaN                        NaN   \n",
       "2                           NaN            NaN                        NaN   \n",
       "3                           NaN            NaN                        NaN   \n",
       "4                           NaN            NaN                        NaN   \n",
       "...                         ...            ...                        ...   \n",
       "57924                       NaN            NaN                        NaN   \n",
       "57925                       NaN            NaN                        NaN   \n",
       "57926                       NaN            NaN                        NaN   \n",
       "57927                       NaN            NaN                        NaN   \n",
       "57928                       NaN            NaN                        NaN   \n",
       "\n",
       "       weekly_hosp_admissions weekly_hosp_admissions_per_million  \\\n",
       "0                         NaN                                NaN   \n",
       "1                         NaN                                NaN   \n",
       "2                         NaN                                NaN   \n",
       "3                         NaN                                NaN   \n",
       "4                         NaN                                NaN   \n",
       "...                       ...                                ...   \n",
       "57924                     NaN                                NaN   \n",
       "57925                     NaN                                NaN   \n",
       "57926                     NaN                                NaN   \n",
       "57927                     NaN                                NaN   \n",
       "57928                     NaN                                NaN   \n",
       "\n",
       "       weekly_icu_admissions  weekly_icu_admissions_per_million     location  \\\n",
       "0                        NaN                                NaN  Afghanistan   \n",
       "1                        NaN                                NaN  Afghanistan   \n",
       "2                        NaN                                NaN  Afghanistan   \n",
       "3                        NaN                                NaN  Afghanistan   \n",
       "4                        NaN                                NaN  Afghanistan   \n",
       "...                      ...                                ...          ...   \n",
       "57924                    NaN                                NaN        World   \n",
       "57925                    NaN                                NaN        World   \n",
       "57926                    NaN                                NaN        World   \n",
       "57927                    NaN                                NaN        World   \n",
       "57928                    NaN                                NaN        World   \n",
       "\n",
       "       continent  \n",
       "0           Asia  \n",
       "1           Asia  \n",
       "2           Asia  \n",
       "3           Asia  \n",
       "4           Asia  \n",
       "...          ...  \n",
       "57924        NaN  \n",
       "57925        NaN  \n",
       "57926        NaN  \n",
       "57927        NaN  \n",
       "57928        NaN  \n",
       "\n",
       "[57929 rows x 35 columns]"
      ],
      "text/html": "<div>\n<style scoped>\n    .dataframe tbody tr th:only-of-type {\n        vertical-align: middle;\n    }\n\n    .dataframe tbody tr th {\n        vertical-align: top;\n    }\n\n    .dataframe thead th {\n        text-align: right;\n    }\n</style>\n<table border=\"1\" class=\"dataframe\">\n  <thead>\n    <tr style=\"text-align: right;\">\n      <th></th>\n      <th>date</th>\n      <th>new_cases</th>\n      <th>new_deaths</th>\n      <th>new_cases_per_million</th>\n      <th>new_deaths_per_million</th>\n      <th>stringency_index</th>\n      <th>new_cases_smoothed</th>\n      <th>new_deaths_smoothed</th>\n      <th>new_cases_smoothed_per_million</th>\n      <th>new_deaths_smoothed_per_million</th>\n      <th>...</th>\n      <th>icu_patients</th>\n      <th>icu_patients_per_million</th>\n      <th>hosp_patients</th>\n      <th>hosp_patients_per_million</th>\n      <th>weekly_hosp_admissions</th>\n      <th>weekly_hosp_admissions_per_million</th>\n      <th>weekly_icu_admissions</th>\n      <th>weekly_icu_admissions_per_million</th>\n      <th>location</th>\n      <th>continent</th>\n    </tr>\n  </thead>\n  <tbody>\n    <tr>\n      <th>0</th>\n      <td>2019-12-31</td>\n      <td>0</td>\n      <td>0.0</td>\n      <td>0.000</td>\n      <td>0.000</td>\n      <td>NaN</td>\n      <td>NaN</td>\n      <td>NaN</td>\n      <td>NaN</td>\n      <td>NaN</td>\n      <td>...</td>\n      <td>NaN</td>\n      <td>NaN</td>\n      <td>NaN</td>\n      <td>NaN</td>\n      <td>NaN</td>\n      <td>NaN</td>\n      <td>NaN</td>\n      <td>NaN</td>\n      <td>Afghanistan</td>\n      <td>Asia</td>\n    </tr>\n    <tr>\n      <th>1</th>\n      <td>2020-01-01</td>\n      <td>0</td>\n      <td>0.0</td>\n      <td>0.000</td>\n      <td>0.000</td>\n      <td>0.0</td>\n      <td>NaN</td>\n      <td>NaN</td>\n      <td>NaN</td>\n      <td>NaN</td>\n      <td>...</td>\n      <td>NaN</td>\n      <td>NaN</td>\n      <td>NaN</td>\n      <td>NaN</td>\n      <td>NaN</td>\n      <td>NaN</td>\n      <td>NaN</td>\n      <td>NaN</td>\n      <td>Afghanistan</td>\n      <td>Asia</td>\n    </tr>\n    <tr>\n      <th>2</th>\n      <td>2020-01-02</td>\n      <td>0</td>\n      <td>0.0</td>\n      <td>0.000</td>\n      <td>0.000</td>\n      <td>0.0</td>\n      <td>NaN</td>\n      <td>NaN</td>\n      <td>NaN</td>\n      <td>NaN</td>\n      <td>...</td>\n      <td>NaN</td>\n      <td>NaN</td>\n      <td>NaN</td>\n      <td>NaN</td>\n      <td>NaN</td>\n      <td>NaN</td>\n      <td>NaN</td>\n      <td>NaN</td>\n      <td>Afghanistan</td>\n      <td>Asia</td>\n    </tr>\n    <tr>\n      <th>3</th>\n      <td>2020-01-03</td>\n      <td>0</td>\n      <td>0.0</td>\n      <td>0.000</td>\n      <td>0.000</td>\n      <td>0.0</td>\n      <td>NaN</td>\n      <td>NaN</td>\n      <td>NaN</td>\n      <td>NaN</td>\n      <td>...</td>\n      <td>NaN</td>\n      <td>NaN</td>\n      <td>NaN</td>\n      <td>NaN</td>\n      <td>NaN</td>\n      <td>NaN</td>\n      <td>NaN</td>\n      <td>NaN</td>\n      <td>Afghanistan</td>\n      <td>Asia</td>\n    </tr>\n    <tr>\n      <th>4</th>\n      <td>2020-01-04</td>\n      <td>0</td>\n      <td>0.0</td>\n      <td>0.000</td>\n      <td>0.000</td>\n      <td>0.0</td>\n      <td>NaN</td>\n      <td>NaN</td>\n      <td>NaN</td>\n      <td>NaN</td>\n      <td>...</td>\n      <td>NaN</td>\n      <td>NaN</td>\n      <td>NaN</td>\n      <td>NaN</td>\n      <td>NaN</td>\n      <td>NaN</td>\n      <td>NaN</td>\n      <td>NaN</td>\n      <td>Afghanistan</td>\n      <td>Asia</td>\n    </tr>\n    <tr>\n      <th>...</th>\n      <td>...</td>\n      <td>...</td>\n      <td>...</td>\n      <td>...</td>\n      <td>...</td>\n      <td>...</td>\n      <td>...</td>\n      <td>...</td>\n      <td>...</td>\n      <td>...</td>\n      <td>...</td>\n      <td>...</td>\n      <td>...</td>\n      <td>...</td>\n      <td>...</td>\n      <td>...</td>\n      <td>...</td>\n      <td>...</td>\n      <td>...</td>\n      <td>...</td>\n      <td>...</td>\n    </tr>\n    <tr>\n      <th>57924</th>\n      <td>2020-11-17</td>\n      <td>543479</td>\n      <td>8560.0</td>\n      <td>69.723</td>\n      <td>1.098</td>\n      <td>NaN</td>\n      <td>590026.286</td>\n      <td>9149.000</td>\n      <td>75.695</td>\n      <td>1.174</td>\n      <td>...</td>\n      <td>NaN</td>\n      <td>NaN</td>\n      <td>NaN</td>\n      <td>NaN</td>\n      <td>NaN</td>\n      <td>NaN</td>\n      <td>NaN</td>\n      <td>NaN</td>\n      <td>World</td>\n      <td>NaN</td>\n    </tr>\n    <tr>\n      <th>57925</th>\n      <td>2020-11-18</td>\n      <td>580828</td>\n      <td>10701.0</td>\n      <td>74.515</td>\n      <td>1.373</td>\n      <td>NaN</td>\n      <td>592135.429</td>\n      <td>9232.571</td>\n      <td>75.965</td>\n      <td>1.184</td>\n      <td>...</td>\n      <td>NaN</td>\n      <td>NaN</td>\n      <td>NaN</td>\n      <td>NaN</td>\n      <td>NaN</td>\n      <td>NaN</td>\n      <td>NaN</td>\n      <td>NaN</td>\n      <td>World</td>\n      <td>NaN</td>\n    </tr>\n    <tr>\n      <th>57926</th>\n      <td>2020-11-19</td>\n      <td>624906</td>\n      <td>11070.0</td>\n      <td>80.170</td>\n      <td>1.420</td>\n      <td>NaN</td>\n      <td>592511.286</td>\n      <td>9296.286</td>\n      <td>76.014</td>\n      <td>1.193</td>\n      <td>...</td>\n      <td>NaN</td>\n      <td>NaN</td>\n      <td>NaN</td>\n      <td>NaN</td>\n      <td>NaN</td>\n      <td>NaN</td>\n      <td>NaN</td>\n      <td>NaN</td>\n      <td>World</td>\n      <td>NaN</td>\n    </tr>\n    <tr>\n      <th>57927</th>\n      <td>2020-11-20</td>\n      <td>636644</td>\n      <td>10642.0</td>\n      <td>81.675</td>\n      <td>1.365</td>\n      <td>NaN</td>\n      <td>590957.714</td>\n      <td>9510.286</td>\n      <td>75.814</td>\n      <td>1.220</td>\n      <td>...</td>\n      <td>NaN</td>\n      <td>NaN</td>\n      <td>NaN</td>\n      <td>NaN</td>\n      <td>NaN</td>\n      <td>NaN</td>\n      <td>NaN</td>\n      <td>NaN</td>\n      <td>World</td>\n      <td>NaN</td>\n    </tr>\n    <tr>\n      <th>57928</th>\n      <td>2020-11-21</td>\n      <td>677321</td>\n      <td>11832.0</td>\n      <td>86.894</td>\n      <td>1.518</td>\n      <td>NaN</td>\n      <td>597087.857</td>\n      <td>9775.429</td>\n      <td>76.601</td>\n      <td>1.254</td>\n      <td>...</td>\n      <td>NaN</td>\n      <td>NaN</td>\n      <td>NaN</td>\n      <td>NaN</td>\n      <td>NaN</td>\n      <td>NaN</td>\n      <td>NaN</td>\n      <td>NaN</td>\n      <td>World</td>\n      <td>NaN</td>\n    </tr>\n  </tbody>\n</table>\n<p>57929 rows × 35 columns</p>\n</div>"
     },
     "metadata": {},
     "execution_count": 13
    }
   ],
   "source": [
    "combined_df"
   ]
  },
  {
   "cell_type": "code",
   "execution_count": 14,
   "metadata": {},
   "outputs": [
    {
     "output_type": "execute_result",
     "data": {
      "text/plain": [
       "        index continent        location   population population_density  \\\n",
       "0         AFG      Asia     Afghanistan  3.89283e+07             54.422   \n",
       "1         ALB    Europe         Albania   2.8778e+06            104.871   \n",
       "2         DZA    Africa         Algeria   4.3851e+07             17.348   \n",
       "3         AND    Europe         Andorra        77265            163.755   \n",
       "4         AGO    Africa          Angola  3.28663e+07              23.89   \n",
       "..        ...       ...             ...          ...                ...   \n",
       "210       ESH    Africa  Western Sahara       597330                NaN   \n",
       "211       YEM      Asia           Yemen   2.9826e+07             53.508   \n",
       "212       ZMB    Africa          Zambia   1.8384e+07             22.995   \n",
       "213       ZWE    Africa        Zimbabwe  1.48629e+07             42.729   \n",
       "214  OWID_WRL       NaN           World   7.7948e+09             58.045   \n",
       "\n",
       "    median_age aged_65_older aged_70_older gdp_per_capita  \\\n",
       "0         18.6         2.581         1.337        1803.99   \n",
       "1           38        13.188         8.643        11803.4   \n",
       "2         29.1         6.211         3.857        13913.8   \n",
       "3          NaN           NaN           NaN            NaN   \n",
       "4         16.8         2.405         1.362        5819.49   \n",
       "..         ...           ...           ...            ...   \n",
       "210       28.4           NaN          1.38            NaN   \n",
       "211       20.3         2.922         1.583        1479.15   \n",
       "212       17.7          2.48         1.542        3689.25   \n",
       "213       19.6         2.822         1.882        1899.78   \n",
       "214       30.9         8.696         5.355        15469.2   \n",
       "\n",
       "    cardiovasc_death_rate diabetes_prevalence handwashing_facilities  \\\n",
       "0                 597.029                9.59                 37.746   \n",
       "1                 304.195               10.08                    NaN   \n",
       "2                 278.364                6.73                 83.741   \n",
       "3                 109.135                7.97                    NaN   \n",
       "4                 276.045                3.94                 26.664   \n",
       "..                    ...                 ...                    ...   \n",
       "210                   NaN                 NaN                    NaN   \n",
       "211               495.003                5.35                 49.542   \n",
       "212               234.499                3.94                 13.938   \n",
       "213               307.846                1.82                 36.791   \n",
       "214                233.07                8.51                  60.13   \n",
       "\n",
       "    hospital_beds_per_thousand life_expectancy human_development_index  \\\n",
       "0                          0.5           64.83                   0.498   \n",
       "1                         2.89           78.57                   0.785   \n",
       "2                          1.9           76.88                   0.754   \n",
       "3                          NaN           83.73                   0.858   \n",
       "4                          NaN           61.15                   0.581   \n",
       "..                         ...             ...                     ...   \n",
       "210                        NaN           70.26                     NaN   \n",
       "211                        0.7           66.12                   0.452   \n",
       "212                          2           63.89                   0.588   \n",
       "213                        1.7           61.49                   0.535   \n",
       "214                      2.705           72.58                     NaN   \n",
       "\n",
       "    extreme_poverty female_smokers male_smokers  \n",
       "0               NaN            NaN          NaN  \n",
       "1               1.1            7.1         51.2  \n",
       "2               0.5            0.7         30.4  \n",
       "3               NaN             29         37.8  \n",
       "4               NaN            NaN          NaN  \n",
       "..              ...            ...          ...  \n",
       "210             NaN            NaN          NaN  \n",
       "211            18.8            7.6         29.2  \n",
       "212            57.5            3.1         24.7  \n",
       "213            21.4            1.6         30.7  \n",
       "214              10          6.434       34.635  \n",
       "\n",
       "[215 rows x 18 columns]"
      ],
      "text/html": "<div>\n<style scoped>\n    .dataframe tbody tr th:only-of-type {\n        vertical-align: middle;\n    }\n\n    .dataframe tbody tr th {\n        vertical-align: top;\n    }\n\n    .dataframe thead th {\n        text-align: right;\n    }\n</style>\n<table border=\"1\" class=\"dataframe\">\n  <thead>\n    <tr style=\"text-align: right;\">\n      <th></th>\n      <th>index</th>\n      <th>continent</th>\n      <th>location</th>\n      <th>population</th>\n      <th>population_density</th>\n      <th>median_age</th>\n      <th>aged_65_older</th>\n      <th>aged_70_older</th>\n      <th>gdp_per_capita</th>\n      <th>cardiovasc_death_rate</th>\n      <th>diabetes_prevalence</th>\n      <th>handwashing_facilities</th>\n      <th>hospital_beds_per_thousand</th>\n      <th>life_expectancy</th>\n      <th>human_development_index</th>\n      <th>extreme_poverty</th>\n      <th>female_smokers</th>\n      <th>male_smokers</th>\n    </tr>\n  </thead>\n  <tbody>\n    <tr>\n      <th>0</th>\n      <td>AFG</td>\n      <td>Asia</td>\n      <td>Afghanistan</td>\n      <td>3.89283e+07</td>\n      <td>54.422</td>\n      <td>18.6</td>\n      <td>2.581</td>\n      <td>1.337</td>\n      <td>1803.99</td>\n      <td>597.029</td>\n      <td>9.59</td>\n      <td>37.746</td>\n      <td>0.5</td>\n      <td>64.83</td>\n      <td>0.498</td>\n      <td>NaN</td>\n      <td>NaN</td>\n      <td>NaN</td>\n    </tr>\n    <tr>\n      <th>1</th>\n      <td>ALB</td>\n      <td>Europe</td>\n      <td>Albania</td>\n      <td>2.8778e+06</td>\n      <td>104.871</td>\n      <td>38</td>\n      <td>13.188</td>\n      <td>8.643</td>\n      <td>11803.4</td>\n      <td>304.195</td>\n      <td>10.08</td>\n      <td>NaN</td>\n      <td>2.89</td>\n      <td>78.57</td>\n      <td>0.785</td>\n      <td>1.1</td>\n      <td>7.1</td>\n      <td>51.2</td>\n    </tr>\n    <tr>\n      <th>2</th>\n      <td>DZA</td>\n      <td>Africa</td>\n      <td>Algeria</td>\n      <td>4.3851e+07</td>\n      <td>17.348</td>\n      <td>29.1</td>\n      <td>6.211</td>\n      <td>3.857</td>\n      <td>13913.8</td>\n      <td>278.364</td>\n      <td>6.73</td>\n      <td>83.741</td>\n      <td>1.9</td>\n      <td>76.88</td>\n      <td>0.754</td>\n      <td>0.5</td>\n      <td>0.7</td>\n      <td>30.4</td>\n    </tr>\n    <tr>\n      <th>3</th>\n      <td>AND</td>\n      <td>Europe</td>\n      <td>Andorra</td>\n      <td>77265</td>\n      <td>163.755</td>\n      <td>NaN</td>\n      <td>NaN</td>\n      <td>NaN</td>\n      <td>NaN</td>\n      <td>109.135</td>\n      <td>7.97</td>\n      <td>NaN</td>\n      <td>NaN</td>\n      <td>83.73</td>\n      <td>0.858</td>\n      <td>NaN</td>\n      <td>29</td>\n      <td>37.8</td>\n    </tr>\n    <tr>\n      <th>4</th>\n      <td>AGO</td>\n      <td>Africa</td>\n      <td>Angola</td>\n      <td>3.28663e+07</td>\n      <td>23.89</td>\n      <td>16.8</td>\n      <td>2.405</td>\n      <td>1.362</td>\n      <td>5819.49</td>\n      <td>276.045</td>\n      <td>3.94</td>\n      <td>26.664</td>\n      <td>NaN</td>\n      <td>61.15</td>\n      <td>0.581</td>\n      <td>NaN</td>\n      <td>NaN</td>\n      <td>NaN</td>\n    </tr>\n    <tr>\n      <th>...</th>\n      <td>...</td>\n      <td>...</td>\n      <td>...</td>\n      <td>...</td>\n      <td>...</td>\n      <td>...</td>\n      <td>...</td>\n      <td>...</td>\n      <td>...</td>\n      <td>...</td>\n      <td>...</td>\n      <td>...</td>\n      <td>...</td>\n      <td>...</td>\n      <td>...</td>\n      <td>...</td>\n      <td>...</td>\n      <td>...</td>\n    </tr>\n    <tr>\n      <th>210</th>\n      <td>ESH</td>\n      <td>Africa</td>\n      <td>Western Sahara</td>\n      <td>597330</td>\n      <td>NaN</td>\n      <td>28.4</td>\n      <td>NaN</td>\n      <td>1.38</td>\n      <td>NaN</td>\n      <td>NaN</td>\n      <td>NaN</td>\n      <td>NaN</td>\n      <td>NaN</td>\n      <td>70.26</td>\n      <td>NaN</td>\n      <td>NaN</td>\n      <td>NaN</td>\n      <td>NaN</td>\n    </tr>\n    <tr>\n      <th>211</th>\n      <td>YEM</td>\n      <td>Asia</td>\n      <td>Yemen</td>\n      <td>2.9826e+07</td>\n      <td>53.508</td>\n      <td>20.3</td>\n      <td>2.922</td>\n      <td>1.583</td>\n      <td>1479.15</td>\n      <td>495.003</td>\n      <td>5.35</td>\n      <td>49.542</td>\n      <td>0.7</td>\n      <td>66.12</td>\n      <td>0.452</td>\n      <td>18.8</td>\n      <td>7.6</td>\n      <td>29.2</td>\n    </tr>\n    <tr>\n      <th>212</th>\n      <td>ZMB</td>\n      <td>Africa</td>\n      <td>Zambia</td>\n      <td>1.8384e+07</td>\n      <td>22.995</td>\n      <td>17.7</td>\n      <td>2.48</td>\n      <td>1.542</td>\n      <td>3689.25</td>\n      <td>234.499</td>\n      <td>3.94</td>\n      <td>13.938</td>\n      <td>2</td>\n      <td>63.89</td>\n      <td>0.588</td>\n      <td>57.5</td>\n      <td>3.1</td>\n      <td>24.7</td>\n    </tr>\n    <tr>\n      <th>213</th>\n      <td>ZWE</td>\n      <td>Africa</td>\n      <td>Zimbabwe</td>\n      <td>1.48629e+07</td>\n      <td>42.729</td>\n      <td>19.6</td>\n      <td>2.822</td>\n      <td>1.882</td>\n      <td>1899.78</td>\n      <td>307.846</td>\n      <td>1.82</td>\n      <td>36.791</td>\n      <td>1.7</td>\n      <td>61.49</td>\n      <td>0.535</td>\n      <td>21.4</td>\n      <td>1.6</td>\n      <td>30.7</td>\n    </tr>\n    <tr>\n      <th>214</th>\n      <td>OWID_WRL</td>\n      <td>NaN</td>\n      <td>World</td>\n      <td>7.7948e+09</td>\n      <td>58.045</td>\n      <td>30.9</td>\n      <td>8.696</td>\n      <td>5.355</td>\n      <td>15469.2</td>\n      <td>233.07</td>\n      <td>8.51</td>\n      <td>60.13</td>\n      <td>2.705</td>\n      <td>72.58</td>\n      <td>NaN</td>\n      <td>10</td>\n      <td>6.434</td>\n      <td>34.635</td>\n    </tr>\n  </tbody>\n</table>\n<p>215 rows × 18 columns</p>\n</div>"
     },
     "metadata": {},
     "execution_count": 14
    }
   ],
   "source": [
    "country_information"
   ]
  },
  {
   "cell_type": "code",
   "execution_count": 40,
   "metadata": {},
   "outputs": [
    {
     "output_type": "execute_result",
     "data": {
      "text/plain": [
       "{'Asia': 'Yemen',\n",
       " 'Europe': 'Vatican',\n",
       " 'Africa': 'Zimbabwe',\n",
       " 'North America': 'United States Virgin Islands',\n",
       " 'South America': 'Venezuela',\n",
       " 'Oceania': 'Wallis and Futuna',\n",
       " nan: 'World'}"
      ]
     },
     "metadata": {},
     "execution_count": 40
    }
   ],
   "source": [
    "dict(zip(country_key.continent, country_key.location))"
   ]
  },
  {
   "cell_type": "code",
   "execution_count": 51,
   "metadata": {},
   "outputs": [
    {
     "output_type": "execute_result",
     "data": {
      "text/plain": [
       "           location continent\n",
       "0       Afghanistan      Asia\n",
       "1           Albania    Europe\n",
       "2           Algeria    Africa\n",
       "3           Andorra    Europe\n",
       "4            Angola    Africa\n",
       "..              ...       ...\n",
       "210  Western Sahara    Africa\n",
       "211           Yemen      Asia\n",
       "212          Zambia    Africa\n",
       "213        Zimbabwe    Africa\n",
       "214           World       NaN\n",
       "\n",
       "[215 rows x 2 columns]"
      ],
      "text/html": "<div>\n<style scoped>\n    .dataframe tbody tr th:only-of-type {\n        vertical-align: middle;\n    }\n\n    .dataframe tbody tr th {\n        vertical-align: top;\n    }\n\n    .dataframe thead th {\n        text-align: right;\n    }\n</style>\n<table border=\"1\" class=\"dataframe\">\n  <thead>\n    <tr style=\"text-align: right;\">\n      <th></th>\n      <th>location</th>\n      <th>continent</th>\n    </tr>\n  </thead>\n  <tbody>\n    <tr>\n      <th>0</th>\n      <td>Afghanistan</td>\n      <td>Asia</td>\n    </tr>\n    <tr>\n      <th>1</th>\n      <td>Albania</td>\n      <td>Europe</td>\n    </tr>\n    <tr>\n      <th>2</th>\n      <td>Algeria</td>\n      <td>Africa</td>\n    </tr>\n    <tr>\n      <th>3</th>\n      <td>Andorra</td>\n      <td>Europe</td>\n    </tr>\n    <tr>\n      <th>4</th>\n      <td>Angola</td>\n      <td>Africa</td>\n    </tr>\n    <tr>\n      <th>...</th>\n      <td>...</td>\n      <td>...</td>\n    </tr>\n    <tr>\n      <th>210</th>\n      <td>Western Sahara</td>\n      <td>Africa</td>\n    </tr>\n    <tr>\n      <th>211</th>\n      <td>Yemen</td>\n      <td>Asia</td>\n    </tr>\n    <tr>\n      <th>212</th>\n      <td>Zambia</td>\n      <td>Africa</td>\n    </tr>\n    <tr>\n      <th>213</th>\n      <td>Zimbabwe</td>\n      <td>Africa</td>\n    </tr>\n    <tr>\n      <th>214</th>\n      <td>World</td>\n      <td>NaN</td>\n    </tr>\n  </tbody>\n</table>\n<p>215 rows × 2 columns</p>\n</div>"
     },
     "metadata": {},
     "execution_count": 51
    }
   ],
   "source": [
    "country_key[['location', 'continent']]"
   ]
  },
  {
   "cell_type": "code",
   "execution_count": 53,
   "metadata": {},
   "outputs": [],
   "source": [
    "country_continent = dict(zip(country_key.location, country_key.continent))"
   ]
  },
  {
   "cell_type": "code",
   "execution_count": 54,
   "metadata": {},
   "outputs": [
    {
     "output_type": "execute_result",
     "data": {
      "text/plain": [
       "'North America'"
      ]
     },
     "metadata": {},
     "execution_count": 54
    }
   ],
   "source": [
    "country_continent['Canada']"
   ]
  },
  {
   "cell_type": "code",
   "execution_count": 57,
   "metadata": {},
   "outputs": [],
   "source": [
    "def check_continent(country):\n",
    "    country_continent = dict(zip(country_key.location, country_key.continent))\n",
    "    continent_name = country_continent[country]\n",
    "    return continent_name"
   ]
  },
  {
   "cell_type": "code",
   "execution_count": 61,
   "metadata": {},
   "outputs": [],
   "source": [
    "continent = check_continent('Canada')"
   ]
  },
  {
   "cell_type": "code",
   "execution_count": 70,
   "metadata": {},
   "outputs": [
    {
     "output_type": "execute_result",
     "data": {
      "text/plain": [
       "                               location  total_cases\n",
       "55044                     United States   11913944.0\n",
       "34557                            Mexico    1025969.0\n",
       "9917                             Canada     320719.0\n",
       "40702                            Panama     152289.0\n",
       "15534                Dominican Republic     136784.0\n",
       "12471                        Costa Rica     129418.0\n",
       "22207                         Guatemala     117757.0\n",
       "23698                          Honduras     103488.0\n",
       "42566                       Puerto Rico      81846.0\n",
       "16436                       El Salvador      37250.0\n",
       "27149                           Jamaica      10151.0\n",
       "23445                             Haiti       9214.0\n",
       "13303                              Cuba       7763.0\n",
       "3970                            Bahamas       7367.0\n",
       "52806               Trinidad and Tobago       6261.0\n",
       "38394                         Nicaragua       5661.0\n",
       "5705                             Belize       5056.0\n",
       "2740                              Aruba       4698.0\n",
       "13552                           Curacao       1620.0\n",
       "55287      United States Virgin Islands       1482.0\n",
       "46971         Sint Maarten (Dutch part)        983.0\n",
       "53560          Turks and Caicos Islands        740.0\n",
       "10410                    Cayman Islands        261.0\n",
       "4810                           Barbados        253.0\n",
       "6202                            Bermuda        227.0\n",
       "44292                       Saint Lucia        203.0\n",
       "6947    Bonaire Sint Eustatius and Saba        158.0\n",
       "1902                Antigua and Barbuda        139.0\n",
       "44541  Saint Vincent and the Grenadines         84.0\n",
       "15207                          Dominica         72.0\n",
       "8005             British Virgin Islands         72.0\n",
       "21680                           Grenada         41.0\n",
       "44040             Saint Kitts and Nevis         19.0\n",
       "21436                         Greenland         18.0\n",
       "35889                        Montserrat         13.0\n",
       "1655                           Anguilla          3.0"
      ],
      "text/html": "<div>\n<style scoped>\n    .dataframe tbody tr th:only-of-type {\n        vertical-align: middle;\n    }\n\n    .dataframe tbody tr th {\n        vertical-align: top;\n    }\n\n    .dataframe thead th {\n        text-align: right;\n    }\n</style>\n<table border=\"1\" class=\"dataframe\">\n  <thead>\n    <tr style=\"text-align: right;\">\n      <th></th>\n      <th>location</th>\n      <th>total_cases</th>\n    </tr>\n  </thead>\n  <tbody>\n    <tr>\n      <th>55044</th>\n      <td>United States</td>\n      <td>11913944.0</td>\n    </tr>\n    <tr>\n      <th>34557</th>\n      <td>Mexico</td>\n      <td>1025969.0</td>\n    </tr>\n    <tr>\n      <th>9917</th>\n      <td>Canada</td>\n      <td>320719.0</td>\n    </tr>\n    <tr>\n      <th>40702</th>\n      <td>Panama</td>\n      <td>152289.0</td>\n    </tr>\n    <tr>\n      <th>15534</th>\n      <td>Dominican Republic</td>\n      <td>136784.0</td>\n    </tr>\n    <tr>\n      <th>12471</th>\n      <td>Costa Rica</td>\n      <td>129418.0</td>\n    </tr>\n    <tr>\n      <th>22207</th>\n      <td>Guatemala</td>\n      <td>117757.0</td>\n    </tr>\n    <tr>\n      <th>23698</th>\n      <td>Honduras</td>\n      <td>103488.0</td>\n    </tr>\n    <tr>\n      <th>42566</th>\n      <td>Puerto Rico</td>\n      <td>81846.0</td>\n    </tr>\n    <tr>\n      <th>16436</th>\n      <td>El Salvador</td>\n      <td>37250.0</td>\n    </tr>\n    <tr>\n      <th>27149</th>\n      <td>Jamaica</td>\n      <td>10151.0</td>\n    </tr>\n    <tr>\n      <th>23445</th>\n      <td>Haiti</td>\n      <td>9214.0</td>\n    </tr>\n    <tr>\n      <th>13303</th>\n      <td>Cuba</td>\n      <td>7763.0</td>\n    </tr>\n    <tr>\n      <th>3970</th>\n      <td>Bahamas</td>\n      <td>7367.0</td>\n    </tr>\n    <tr>\n      <th>52806</th>\n      <td>Trinidad and Tobago</td>\n      <td>6261.0</td>\n    </tr>\n    <tr>\n      <th>38394</th>\n      <td>Nicaragua</td>\n      <td>5661.0</td>\n    </tr>\n    <tr>\n      <th>5705</th>\n      <td>Belize</td>\n      <td>5056.0</td>\n    </tr>\n    <tr>\n      <th>2740</th>\n      <td>Aruba</td>\n      <td>4698.0</td>\n    </tr>\n    <tr>\n      <th>13552</th>\n      <td>Curacao</td>\n      <td>1620.0</td>\n    </tr>\n    <tr>\n      <th>55287</th>\n      <td>United States Virgin Islands</td>\n      <td>1482.0</td>\n    </tr>\n    <tr>\n      <th>46971</th>\n      <td>Sint Maarten (Dutch part)</td>\n      <td>983.0</td>\n    </tr>\n    <tr>\n      <th>53560</th>\n      <td>Turks and Caicos Islands</td>\n      <td>740.0</td>\n    </tr>\n    <tr>\n      <th>10410</th>\n      <td>Cayman Islands</td>\n      <td>261.0</td>\n    </tr>\n    <tr>\n      <th>4810</th>\n      <td>Barbados</td>\n      <td>253.0</td>\n    </tr>\n    <tr>\n      <th>6202</th>\n      <td>Bermuda</td>\n      <td>227.0</td>\n    </tr>\n    <tr>\n      <th>44292</th>\n      <td>Saint Lucia</td>\n      <td>203.0</td>\n    </tr>\n    <tr>\n      <th>6947</th>\n      <td>Bonaire Sint Eustatius and Saba</td>\n      <td>158.0</td>\n    </tr>\n    <tr>\n      <th>1902</th>\n      <td>Antigua and Barbuda</td>\n      <td>139.0</td>\n    </tr>\n    <tr>\n      <th>44541</th>\n      <td>Saint Vincent and the Grenadines</td>\n      <td>84.0</td>\n    </tr>\n    <tr>\n      <th>15207</th>\n      <td>Dominica</td>\n      <td>72.0</td>\n    </tr>\n    <tr>\n      <th>8005</th>\n      <td>British Virgin Islands</td>\n      <td>72.0</td>\n    </tr>\n    <tr>\n      <th>21680</th>\n      <td>Grenada</td>\n      <td>41.0</td>\n    </tr>\n    <tr>\n      <th>44040</th>\n      <td>Saint Kitts and Nevis</td>\n      <td>19.0</td>\n    </tr>\n    <tr>\n      <th>21436</th>\n      <td>Greenland</td>\n      <td>18.0</td>\n    </tr>\n    <tr>\n      <th>35889</th>\n      <td>Montserrat</td>\n      <td>13.0</td>\n    </tr>\n    <tr>\n      <th>1655</th>\n      <td>Anguilla</td>\n      <td>3.0</td>\n    </tr>\n  </tbody>\n</table>\n</div>"
     },
     "metadata": {},
     "execution_count": 70
    }
   ],
   "source": [
    "combined_df[(combined_df['continent'] == continent) & (combined_df['date'] == today)][['location', 'total_cases']].sort_values('total_cases', ascending = False)"
   ]
  },
  {
   "cell_type": "code",
   "execution_count": null,
   "metadata": {},
   "outputs": [],
   "source": []
  }
 ],
 "metadata": {
  "kernelspec": {
   "display_name": "Python 3",
   "language": "python",
   "name": "python3"
  },
  "language_info": {
   "codemirror_mode": {
    "name": "ipython",
    "version": 3
   },
   "file_extension": ".py",
   "mimetype": "text/x-python",
   "name": "python",
   "nbconvert_exporter": "python",
   "pygments_lexer": "ipython3",
   "version": "3.8.3-final"
  },
  "toc": {
   "base_numbering": 1,
   "nav_menu": {},
   "number_sections": true,
   "sideBar": true,
   "skip_h1_title": false,
   "title_cell": "Table of Contents",
   "title_sidebar": "Contents",
   "toc_cell": false,
   "toc_position": {},
   "toc_section_display": true,
   "toc_window_display": false
  }
 },
 "nbformat": 4,
 "nbformat_minor": 4
}